{
  "cells": [
    {
      "cell_type": "code",
      "execution_count": 1,
      "metadata": {
        "colab": {
          "base_uri": "https://localhost:8080/"
        },
        "id": "Qc-6ZTF_9r6h",
        "outputId": "361ea6cf-3234-40cf-bfc8-ad289b4d2782"
      },
      "outputs": [
        {
          "data": {
            "text/plain": [
              "\"\\n!git clone https://github.com/rajanlab/CURBD.git\\nimport os \\nos.chdir('/content/CURBD/')\\n\""
            ]
          },
          "execution_count": 1,
          "metadata": {},
          "output_type": "execute_result"
        }
      ],
      "source": [
        "'''\n",
        "!git clone https://github.com/rajanlab/CURBD.git\n",
        "import os \n",
        "os.chdir('/content/CURBD/')\n",
        "'''"
      ]
    },
    {
      "cell_type": "code",
      "execution_count": 2,
      "metadata": {
        "id": "_rCUN8Zk94cA"
      },
      "outputs": [
        {
          "name": "stderr",
          "output_type": "stream",
          "text": [
            "c:\\Users\\Andrew\\AppData\\Local\\Programs\\Python\\Python38\\lib\\site-packages\\tqdm\\auto.py:22: TqdmWarning: IProgress not found. Please update jupyter and ipywidgets. See https://ipywidgets.readthedocs.io/en/stable/user_install.html\n",
            "  from .autonotebook import tqdm as notebook_tqdm\n"
          ]
        }
      ],
      "source": [
        "import numpy as np\n",
        "import numpy.random as npr\n",
        "import pylab\n",
        "import curbd\n",
        "import math\n",
        "import matplotlib.pyplot as plt\n",
        "#%matplotlib\n",
        "import seaborn as sns\n",
        "\n",
        "\n",
        "import torch\n",
        "import torch.nn as nn\n",
        "from torch.nn import init\n",
        "from torch.nn import functional as F\n",
        "import torch.optim as optim\n",
        "import pickle \n",
        "device = torch.device('cuda' if torch.cuda.is_available() else 'cpu')\n"
      ]
    },
    {
      "cell_type": "code",
      "execution_count": 3,
      "metadata": {
        "id": "riD-5mjq96OJ"
      },
      "outputs": [
        {
          "data": {
            "text/plain": [
              "'with open(\"simulation.pkl\", \"wb\") as f:\\n    pickle.dump(sim, f)'"
            ]
          },
          "execution_count": 3,
          "metadata": {},
          "output_type": "execute_result"
        }
      ],
      "source": [
        "'''sim = curbd.threeRegionSim(number_units=100,\n",
        "                           ga=1.8,\n",
        "                           gb=1.5,\n",
        "                           gc=1.5,\n",
        "                           tau=0.1,\n",
        "                           fracInterReg=0.05,\n",
        "                           ampInterReg=0.02,\n",
        "                           fracExternal=0.5,\n",
        "                           ampInB=1,\n",
        "                           ampInC=-1,\n",
        "                           dtData=0.01,\n",
        "                           T=10,\n",
        "                           leadTime=2,\n",
        "                           bumpStd=0.2,\n",
        "                           )'''\n",
        "\n",
        "'''with open(\"simulation.pkl\", \"wb\") as f:\n",
        "    pickle.dump(sim, f)'''"
      ]
    },
    {
      "cell_type": "code",
      "execution_count": 4,
      "metadata": {},
      "outputs": [],
      "source": [
        "sim = torch.load(\"REAL_SIM.pt\")"
      ]
    },
    {
      "cell_type": "code",
      "execution_count": 5,
      "metadata": {
        "id": "_baTx7xV995S"
      },
      "outputs": [],
      "source": [
        "#three regions with each region having 100 units and 1201 time series data\n",
        "activity = np.concatenate((sim['Ra'], sim['Rb'], sim['Rc']), 0) #300 x 1201\n",
        "activity = activity[:,:300]\n",
        "\n",
        "Na = sim['params']['Na']\n",
        "Nb = sim['params']['Nb']\n",
        "Nc = sim['params']['Nc']\n",
        "\n",
        "regions = []\n",
        "regions.append(['Region A', np.arange(0, Na)])\n",
        "regions.append(['Region B', np.arange(Na, Na + Nb)])\n",
        "regions.append(['Region C', np.arange(Na + Nb, Na + Nb + Nc)])\n",
        "regions = np.array(regions, dtype=object)"
      ]
    },
    {
      "cell_type": "markdown",
      "metadata": {
        "id": "qBCmBCJ1-fEj"
      },
      "source": [
        "# Initializing the parameters "
      ]
    },
    {
      "cell_type": "code",
      "execution_count": 6,
      "metadata": {
        "id": "77y1YH4g-PV2"
      },
      "outputs": [],
      "source": [
        "dtData=sim['params']['dtData'] # time step of training data\n",
        "# dtData=None\n",
        "dtFactor=5 # number of interpolation steps for RNN \n",
        "regions=regions # number of regions and names of the regions\n",
        "# tauRNN=2*sim['params']['tau']/2 # decay constant of RNN \n",
        "tauRNN=50 # decay constant of RNN \n",
        "\n",
        "g=1.5 # instability constant \n",
        "tauWN=0.1 #decay constant on filtered white noise inputs\n",
        "ampInWN=0.01 #input amplitude of filtered white noise \n",
        "resetPoints=None\n",
        "plotStatus=True\n",
        "regions=None\n"
      ]
    },
    {
      "cell_type": "code",
      "execution_count": 7,
      "metadata": {
        "id": "xOz5es3m-VwP"
      },
      "outputs": [],
      "source": [
        "if dtData is None: #0.01\n",
        "    print('dtData not specified. Defaulting to 1.');\n",
        "    dtData = 1;\n",
        "if resetPoints is None:\n",
        "    resetPoints = [0, ]\n",
        "if regions is None:\n",
        "    regions = {}"
      ]
    },
    {
      "cell_type": "code",
      "execution_count": 8,
      "metadata": {
        "id": "hOL51DQm-lgD"
      },
      "outputs": [],
      "source": [
        "number_units = activity.shape[0] #300 -- the total number of units \n",
        "number_learn = activity.shape[0] #300\n",
        "dtRNN = dtData / float(dtFactor) # 0.01/5=0.002"
      ]
    },
    {
      "cell_type": "code",
      "execution_count": 9,
      "metadata": {
        "id": "TlpOy7kX_e9g"
      },
      "outputs": [],
      "source": [
        "learnList = npr.permutation(number_units) #randomize the units\n",
        "iTarget = learnList[:number_learn]\n",
        "iNonTarget = learnList[number_learn:] # []\n",
        "\n",
        "tData = dtData*np.arange(activity.shape[1]) #   [0, 0.01, 0.02 ....,12.01] #1201 input time steps \n",
        "tRNN = np.arange(0, tData[-1] + dtRNN, dtRNN) # [0, 0.002, 0.004 ...., 12.01] #6000 rnn time steps"
      ]
    },
    {
      "cell_type": "markdown",
      "metadata": {
        "id": "8B_UhfrJTmoZ"
      },
      "source": [
        "# External Input to RNN"
      ]
    },
    {
      "cell_type": "code",
      "execution_count": 10,
      "metadata": {
        "id": "LsQjmRizAB-V"
      },
      "outputs": [],
      "source": [
        "ampWN = math.sqrt(tauWN/dtRNN) # (0.1/0.002)\n",
        "iWN = ampWN * npr.randn(number_units, len(tRNN)) #gaussian noise ? #300x6001\n",
        "inputWN = np.ones((number_units, len(tRNN))) #300x6001\n",
        "# print(\"inputWN : \",inputWN)\n",
        "for tt in range(1, len(tRNN)):\n",
        "    inputWN[:, tt] = iWN[:, tt] + (inputWN[:, tt - 1] - iWN[:, tt])*np.exp(- (dtRNN / tauWN)) # solve the above differential equation \n",
        "inputWN = ampInWN * inputWN # external input h(t)\n"
      ]
    },
    {
      "cell_type": "markdown",
      "metadata": {
        "id": "shOWfQcVSmeR"
      },
      "source": [
        "# Set up target training data"
      ]
    },
    {
      "cell_type": "code",
      "execution_count": 11,
      "metadata": {
        "colab": {
          "base_uri": "https://localhost:8080/"
        },
        "id": "mlEoL7WsRabN",
        "outputId": "82fc253e-0c7b-48f8-c7b0-d8606301f2ec"
      },
      "outputs": [
        {
          "name": "stdout",
          "output_type": "stream",
          "text": [
            "(300, 300)\n"
          ]
        }
      ],
      "source": [
        "Adata = activity.copy()\n",
        "Adata = Adata/Adata.max()\n",
        "Adata = np.minimum(Adata, 0.999) # elementwise minimum \n",
        "Adata = np.maximum(Adata, -0.999) # elementwise max\n",
        "print (Adata.shape)"
      ]
    },
    {
      "cell_type": "markdown",
      "metadata": {
        "id": "Y71GXazFhGQJ"
      },
      "source": [
        "# Model Definition"
      ]
    },
    {
      "cell_type": "code",
      "execution_count": 12,
      "metadata": {
        "id": "nqsHjhoVTgOx"
      },
      "outputs": [],
      "source": [
        "import sys \n",
        "\n",
        "class CTRNN(nn.Module):\n",
        "    \"\"\"Continuous-time RNN.\"\"\"\n",
        "    def __init__(self,\n",
        "                 g,\n",
        "                 tauRNN,\n",
        "                 dtRNN,\n",
        "                 input_units,\n",
        "                 output_units,\n",
        "                 dt=None,\n",
        "                 interregion_sparsity=0.1, #Lower = more sparse, 1 to disable\n",
        "                 intraregion_sparsity=0.1, # Lower = sparser, 1 to disble\n",
        "                 **kwargs):\n",
        "      \n",
        "        super(CTRNN,self).__init__()\n",
        "\n",
        "        self.tauRNN = tauRNN\n",
        "        self.dtRNN=dtRNN\n",
        "        self.g=g\n",
        "        self.input_units=input_units\n",
        "        self.output_units=output_units\n",
        "        \n",
        "        \n",
        "#        print(self.J)\n",
        "        mask = torch.ones(300,300)\n",
        "        mask[:100, 100:300] = torch.rand_like(mask[:100, 100:300]) <= interregion_sparsity\n",
        "        mask[100:200, 0:100] = torch.rand_like(mask[100:200, 0:100]) <= interregion_sparsity\n",
        "        mask[100:200, 200:] = torch.rand_like(mask[100:200, 200:]) <= interregion_sparsity\n",
        "        mask[200:,0:200] = torch.rand_like(mask[200:,0:200]) <= interregion_sparsity\n",
        "        \n",
        "        mask[:100, :100] = torch.rand_like(mask[:100, :100]) <= intraregion_sparsity\n",
        "        mask[100:200, 100:200] = torch.rand_like(mask[:100, :100]) <= intraregion_sparsity\n",
        "        mask[200:, 200:] = torch.rand_like(mask[:100, :100]) <= intraregion_sparsity\n",
        "        \n",
        "        self.mask = mask\n",
        "        self.J = nn.Parameter((self.g * torch.Tensor(npr.randn(input_units, output_units) / math.sqrt(output_units)))  * self.mask )\n",
        "\n",
        "        #print(torch.numel(mask[0:100, 100:]))\n",
        "      \n",
        "    def forward(self, hidden, noise=None):\n",
        "        if(noise is not None):\n",
        "           noise = torch.zeros_like(noise)\n",
        "        \n",
        "        \"\"\"Propogate input through the network.\"\"\"\n",
        "        \n",
        "        # When calculating fixed points: We want to find _hidden_ vectors such that -hidden + JR equals the 0 vector.\n",
        "        activation = torch.tanh(torch.Tensor(hidden))\n",
        "        JR = torch.matmul(self.J, activation).reshape((self.input_units,1))\n",
        "        \n",
        "\n",
        "        new_hidden = hidden + self.dtRNN*(-hidden + JR)/self.tauRNN\n",
        "        return activation, new_hidden\n",
        "\n"
      ]
    },
    {
      "cell_type": "code",
      "execution_count": 13,
      "metadata": {},
      "outputs": [
        {
          "ename": "NameError",
          "evalue": "name 'calculate_lyapunov_exponents' is not defined",
          "output_type": "error",
          "traceback": [
            "\u001b[1;31m---------------------------------------------------------------------------\u001b[0m",
            "\u001b[1;31mNameError\u001b[0m                                 Traceback (most recent call last)",
            "Cell \u001b[1;32mIn[13], line 11\u001b[0m\n\u001b[0;32m      1\u001b[0m rnn_model \u001b[39m=\u001b[39m CTRNN(g\u001b[39m=\u001b[39mg,\n\u001b[0;32m      2\u001b[0m                   tauRNN\u001b[39m=\u001b[39mtauRNN,\n\u001b[0;32m      3\u001b[0m                   dtRNN\u001b[39m=\u001b[39mdtRNN,\n\u001b[1;32m   (...)\u001b[0m\n\u001b[0;32m      7\u001b[0m                   intraregion_sparsity\u001b[39m=\u001b[39m\u001b[39m1\u001b[39m\n\u001b[0;32m      8\u001b[0m                   )\n\u001b[0;32m     10\u001b[0m rnn_model\u001b[39m.\u001b[39mload_state_dict(torch\u001b[39m.\u001b[39mload(\u001b[39m\"\u001b[39m\u001b[39mREAL_WEIGHTS_NONOISE.pt\u001b[39m\u001b[39m\"\u001b[39m))\n\u001b[1;32m---> 11\u001b[0m LEs \u001b[39m=\u001b[39m calculate_lyapunov_exponents(rnn_model, iterations\u001b[39m=\u001b[39m\u001b[39m1000\u001b[39m)\n",
            "\u001b[1;31mNameError\u001b[0m: name 'calculate_lyapunov_exponents' is not defined"
          ]
        }
      ],
      "source": [
        "rnn_model = CTRNN(g=g,\n",
        "                  tauRNN=tauRNN,\n",
        "                  dtRNN=dtRNN,\n",
        "                  input_units=number_units,\n",
        "                  output_units=number_units,\n",
        "                  interregion_sparsity=1,\n",
        "                  intraregion_sparsity=1\n",
        "                  )\n",
        "\n",
        "rnn_model.load_state_dict(torch.load(\"REAL_WEIGHTS_NONOISE.pt\"))\n",
        "LEs = calculate_lyapunov_exponents(rnn_model, iterations=1000)"
      ]
    },
    {
      "cell_type": "code",
      "execution_count": 29,
      "metadata": {},
      "outputs": [],
      "source": [
        "rnn_model = CTRNN(g=g,\n",
        "                  tauRNN=tauRNN,\n",
        "                  dtRNN=dtRNN,\n",
        "                  input_units=number_units,\n",
        "                  output_units=number_units,\n",
        "                  interregion_sparsity=1,\n",
        "                  intraregion_sparsity=1\n",
        "                  )\n",
        "\n",
        "rnn_model.load_state_dict(torch.load(\"intraregion_sparse_weights.pt\"))\n",
        "intra_LEs = calculate_lyapunov_exponents(rnn_model, iterations=1000)"
      ]
    },
    {
      "cell_type": "code",
      "execution_count": 31,
      "metadata": {},
      "outputs": [],
      "source": [
        "rnn_model = CTRNN(g=g,\n",
        "                  tauRNN=tauRNN,\n",
        "                  dtRNN=dtRNN,\n",
        "                  input_units=number_units,\n",
        "                  output_units=number_units,\n",
        "                  interregion_sparsity=1,\n",
        "                  intraregion_sparsity=1\n",
        "                  )\n",
        "\n",
        "rnn_model.load_state_dict(torch.load(\"interregion_sparse.pt\"))\n",
        "intra_LEs = calculate_lyapunov_exponents(rnn_model, iterations=1000)"
      ]
    },
    {
      "cell_type": "code",
      "execution_count": null,
      "metadata": {},
      "outputs": [],
      "source": [
        "plt.plot(reversed(sorted(intra_LEs.detach().numpy())))"
      ]
    },
    {
      "cell_type": "code",
      "execution_count": null,
      "metadata": {},
      "outputs": [],
      "source": [
        "rnn_model = CTRNN(g=g,\n",
        "                  tauRNN=tauRNN,\n",
        "                  dtRNN=dtRNN,\n",
        "                  input_units=number_units,\n",
        "                  output_units=number_units,\n",
        "                  interregion_sparsity=1,\n",
        "                  intraregion_sparsity=1\n",
        "                  )\n",
        "\n",
        "rnn_model.load_state_dict(torch.load(\"int\"))\n",
        "inter_LEs = calculate_lyapunov_exponents(rnn_model, iterations=1000)"
      ]
    },
    {
      "cell_type": "code",
      "execution_count": null,
      "metadata": {},
      "outputs": [],
      "source": [
        "rnn_model = CTRNN(g=g,\n",
        "                  tauRNN=tauRNN,\n",
        "                  dtRNN=dtRNN,\n",
        "                  input_units=number_units,\n",
        "                  output_units=number_units,\n",
        "                  interregion_sparsity=1,\n",
        "                  intraregion_sparsity=1\n",
        "                  )\n",
        "\n",
        "rnn_model.load_state_dict(torch.load(\"REAL_WEIGHTS_NONOISE.pt\"))\n",
        "LEs = calculate_lyapunov_exponents(rnn_model, iterations=1000)"
      ]
    },
    {
      "cell_type": "code",
      "execution_count": 52,
      "metadata": {},
      "outputs": [
        {
          "data": {
            "image/png": "[encoded data removed]",
            "text/plain": [
              "<Figure size 640x480 with 1 Axes>"
            ]
          },
          "metadata": {},
          "output_type": "display_data"
        }
      ],
      "source": [
        "plt.scatter(np.arange(300), torch.sort(intra_LEs, dim=0, descending=True).values.detach().numpy(), label=f'Epoch {i*30}', s=10)\n",
        "plt.annotate(str(float(intra_LEs[0].detach().numpy()))[:5], (0,intra_LEs[0]))\n",
        "\n",
        "plt.savefig(\"plots/final_inter_LEs.png\", transparent=True, dpi=1000)"
      ]
    },
    {
      "cell_type": "code",
      "execution_count": 26,
      "metadata": {},
      "outputs": [],
      "source": [
        "LEs = calculate_lyapunov_exponents(rnn_model, iterations=1000)"
      ]
    },
    {
      "cell_type": "code",
      "execution_count": 28,
      "metadata": {},
      "outputs": [
        {
          "data": {
            "text/plain": [
              "tensor([0.0713])"
            ]
          },
          "execution_count": 28,
          "metadata": {},
          "output_type": "execute_result"
        }
      ],
      "source": [
        "max(LEs)"
      ]
    },
    {
      "cell_type": "markdown",
      "metadata": {
        "id": "gNYTk3LERhrA"
      },
      "source": [
        "# Training"
      ]
    },
    {
      "cell_type": "code",
      "execution_count": 21,
      "metadata": {
        "colab": {
          "base_uri": "https://localhost:8080/"
        },
        "id": "ahldAtgCRlYs",
        "outputId": "e5d1a7a4-57fe-4c96-aeff-49cd01328367"
      },
      "outputs": [
        {
          "name": "stdout",
          "output_type": "stream",
          "text": [
            "Epoch is 0, loss is 148.45809936523438\n",
            "Epoch is 1, loss is 102.72384643554688\n",
            "Epoch is 2, loss is 80.77212524414062\n",
            "Epoch is 3, loss is 69.66481018066406\n",
            "Epoch is 4, loss is 63.62091827392578\n",
            "Epoch is 5, loss is 59.349639892578125\n",
            "Epoch is 6, loss is 55.9118537902832\n",
            "Epoch is 7, loss is 53.26791763305664\n",
            "Epoch is 8, loss is 51.15248489379883\n",
            "Epoch is 9, loss is 49.28810119628906\n",
            "Epoch is 10, loss is 47.582393646240234\n",
            "Epoch is 11, loss is 46.04819107055664\n",
            "Epoch is 12, loss is 44.65726089477539\n",
            "Epoch is 13, loss is 43.362152099609375\n",
            "Epoch is 14, loss is 42.17766571044922\n",
            "Epoch is 15, loss is 41.10620880126953\n",
            "Epoch is 16, loss is 40.109031677246094\n",
            "Epoch is 17, loss is 39.170711517333984\n",
            "Epoch is 18, loss is 38.295352935791016\n",
            "Epoch is 19, loss is 37.48634719848633\n",
            "Epoch is 20, loss is 36.71803283691406\n",
            "Epoch is 21, loss is 35.986854553222656\n",
            "Epoch is 22, loss is 35.29882049560547\n",
            "Epoch is 23, loss is 34.65320587158203\n",
            "Epoch is 24, loss is 34.05303192138672\n",
            "Epoch is 25, loss is 33.48885726928711\n",
            "Epoch is 26, loss is 33.02281951904297\n",
            "Epoch is 27, loss is 33.20969009399414\n",
            "Epoch is 28, loss is 33.27918243408203\n",
            "Epoch is 29, loss is 33.35384750366211\n",
            "Epoch is 30, loss is 31.32583236694336\n",
            "Epoch is 31, loss is 33.930606842041016\n",
            "Epoch is 32, loss is 31.573287963867188\n",
            "Epoch is 33, loss is 32.325687408447266\n",
            "Epoch is 34, loss is 29.59862518310547\n",
            "Epoch is 35, loss is 31.830440521240234\n",
            "Epoch is 36, loss is 28.980079650878906\n",
            "Epoch is 37, loss is 30.37464141845703\n",
            "Epoch is 38, loss is 28.545923233032227\n",
            "Epoch is 39, loss is 28.733030319213867\n",
            "Epoch is 40, loss is 28.316646575927734\n",
            "Epoch is 41, loss is 27.306785583496094\n",
            "Epoch is 42, loss is 27.811574935913086\n",
            "Epoch is 43, loss is 26.621143341064453\n",
            "Epoch is 44, loss is 26.57168960571289\n",
            "Epoch is 45, loss is 26.368850708007812\n",
            "Epoch is 46, loss is 25.457290649414062\n",
            "Epoch is 47, loss is 25.665908813476562\n",
            "Epoch is 48, loss is 24.934396743774414\n",
            "Epoch is 49, loss is 24.58560562133789\n",
            "Epoch is 50, loss is 24.516937255859375\n",
            "Epoch is 51, loss is 23.751216888427734\n",
            "Epoch is 52, loss is 23.744226455688477\n",
            "Epoch is 53, loss is 23.2412052154541\n",
            "Epoch is 54, loss is 22.85236930847168\n",
            "Epoch is 55, loss is 22.72642707824707\n",
            "Epoch is 56, loss is 22.139909744262695\n",
            "Epoch is 57, loss is 22.032894134521484\n",
            "Epoch is 58, loss is 21.59525489807129\n",
            "Epoch is 59, loss is 21.2995548248291\n",
            "Epoch is 60, loss is 21.07364273071289\n",
            "Epoch is 61, loss is 20.644866943359375\n",
            "Epoch is 62, loss is 20.495929718017578\n",
            "Epoch is 63, loss is 20.085067749023438\n",
            "Epoch is 64, loss is 19.899438858032227\n",
            "Epoch is 65, loss is 19.57809066772461\n",
            "Epoch is 66, loss is 19.318737030029297\n",
            "Epoch is 67, loss is 19.087194442749023\n",
            "Epoch is 68, loss is 18.779064178466797\n",
            "Epoch is 69, loss is 18.598230361938477\n",
            "Epoch is 70, loss is 18.28487205505371\n",
            "Epoch is 71, loss is 18.111873626708984\n",
            "Epoch is 72, loss is 17.82264518737793\n",
            "Epoch is 73, loss is 17.64273452758789\n",
            "Epoch is 74, loss is 17.382732391357422\n",
            "Epoch is 75, loss is 17.19217872619629\n",
            "Epoch is 76, loss is 16.960615158081055\n",
            "Epoch is 77, loss is 16.762935638427734\n",
            "Epoch is 78, loss is 16.55242347717285\n",
            "Epoch is 79, loss is 16.35486602783203\n",
            "Epoch is 80, loss is 16.159719467163086\n",
            "Epoch is 81, loss is 15.965371131896973\n",
            "Epoch is 82, loss is 15.781423568725586\n",
            "Epoch is 83, loss is 15.594538688659668\n",
            "Epoch is 84, loss is 15.419139862060547\n",
            "Epoch is 85, loss is 15.240635871887207\n",
            "Epoch is 86, loss is 15.072052955627441\n",
            "Epoch is 87, loss is 14.902959823608398\n",
            "Epoch is 88, loss is 14.740020751953125\n",
            "Epoch is 89, loss is 14.579852104187012\n",
            "Epoch is 90, loss is 14.421954154968262\n",
            "Epoch is 91, loss is 14.270337104797363\n",
            "Epoch is 92, loss is 14.116911888122559\n",
            "Epoch is 93, loss is 13.972673416137695\n",
            "Epoch is 94, loss is 13.823555946350098\n",
            "Epoch is 95, loss is 13.686213493347168\n",
            "Epoch is 96, loss is 13.542156219482422\n",
            "Epoch is 97, loss is 13.410979270935059\n",
            "Epoch is 98, loss is 13.273063659667969\n",
            "Epoch is 99, loss is 13.147668838500977\n",
            "Epoch is 100, loss is 13.017159461975098\n",
            "Epoch is 101, loss is 12.896978378295898\n",
            "Epoch is 102, loss is 12.774935722351074\n",
            "Epoch is 103, loss is 12.65939712524414\n",
            "Epoch is 104, loss is 12.545772552490234\n",
            "Epoch is 105, loss is 12.434496879577637\n",
            "Epoch is 106, loss is 12.328221321105957\n",
            "Epoch is 107, loss is 12.221345901489258\n",
            "Epoch is 108, loss is 12.12061882019043\n",
            "Epoch is 109, loss is 12.018752098083496\n",
            "Epoch is 110, loss is 11.921841621398926\n",
            "Epoch is 111, loss is 11.82544231414795\n",
            "Epoch is 112, loss is 11.73151969909668\n",
            "Epoch is 113, loss is 11.640254974365234\n",
            "Epoch is 114, loss is 11.549473762512207\n",
            "Epoch is 115, loss is 11.462384223937988\n",
            "Epoch is 116, loss is 11.375404357910156\n",
            "Epoch is 117, loss is 11.291365623474121\n",
            "Epoch is 118, loss is 11.208587646484375\n",
            "Epoch is 119, loss is 11.127181053161621\n",
            "Epoch is 120, loss is 11.048104286193848\n",
            "Epoch is 121, loss is 10.969610214233398\n",
            "Epoch is 122, loss is 10.893455505371094\n",
            "Epoch is 123, loss is 10.818214416503906\n",
            "Epoch is 124, loss is 10.74443244934082\n",
            "Epoch is 125, loss is 10.672327041625977\n",
            "Epoch is 126, loss is 10.600987434387207\n",
            "Epoch is 127, loss is 10.531457901000977\n",
            "Epoch is 128, loss is 10.462836265563965\n",
            "Epoch is 129, loss is 10.395483016967773\n",
            "Epoch is 130, loss is 10.329499244689941\n",
            "Epoch is 131, loss is 10.26432991027832\n",
            "Epoch is 132, loss is 10.200578689575195\n",
            "Epoch is 133, loss is 10.137742042541504\n",
            "Epoch is 134, loss is 10.07591438293457\n",
            "Epoch is 135, loss is 10.01528263092041\n",
            "Epoch is 136, loss is 9.955414772033691\n",
            "Epoch is 137, loss is 9.896659851074219\n",
            "Epoch is 138, loss is 9.838801383972168\n",
            "Epoch is 139, loss is 9.78178882598877\n",
            "Epoch is 140, loss is 9.725800514221191\n",
            "Epoch is 141, loss is 9.670565605163574\n",
            "Epoch is 142, loss is 9.616241455078125\n",
            "Epoch is 143, loss is 9.562795639038086\n",
            "Epoch is 144, loss is 9.510091781616211\n",
            "Epoch is 145, loss is 9.458288192749023\n",
            "Epoch is 146, loss is 9.407258033752441\n",
            "Epoch is 147, loss is 9.3569917678833\n",
            "Epoch is 148, loss is 9.3075590133667\n",
            "Epoch is 149, loss is 9.258841514587402\n",
            "Epoch is 150, loss is 9.210881233215332\n"
          ]
        }
      ],
      "source": [
        "rnn_model = CTRNN(g=g,\n",
        "                  tauRNN=tauRNN,\n",
        "                  dtRNN=dtRNN,\n",
        "                  input_units=number_units,\n",
        "                  output_units=number_units,\n",
        "                  interregion_sparsity=1,\n",
        "                  intraregion_sparsity=1\n",
        "                  )\n",
        "\n",
        "optimizer = optim.Adam(rnn_model.parameters(), lr=1e-1)\n",
        "criterion = nn.MSELoss()\n",
        "loss_list = []\n",
        "# RNN = np.zeros((number_units, len(tRNN)))\n",
        "saved_LEs = []\n",
        "\n",
        "for epoch in range(151):\n",
        "    if(epoch % 30 == 0):\n",
        "       saved_LEs.append(calculate_lyapunov_exponents(rnn_model, iterations=500))\n",
        "       \n",
        "    tLearn = 0 \n",
        "    iLearn = 0 \n",
        "    loss = 0\n",
        "\n",
        "    hidden = torch.tanh(torch.Tensor(Adata[:, 0, np.newaxis])).to(device)\n",
        "    # RNN[:, 0, np.newaxis] = hidden.detach().cpu().numpy()\n",
        "    # output = hidden\n",
        "    for i in range(1,len(tRNN)):\n",
        "        tLearn += dtRNN\n",
        "        \n",
        "        # RNN[:, i, np.newaxis] = output.detach().cpu().numpy()\n",
        "\n",
        "        output, hidden = rnn_model(hidden,\n",
        "                                  torch.Tensor(inputWN[:, i, np.newaxis]).to(device))\n",
        "        \n",
        "\n",
        "        if tLearn >= dtData:\n",
        "          tLearn=0\n",
        "          running_loss = criterion(output,\n",
        "                                   torch.Tensor(Adata[:, iLearn ,np.newaxis]).to(device))\n",
        "          iLearn = iLearn + 1 \n",
        "          loss+=running_loss\n",
        "    optimizer.zero_grad()   # zero the gradient buffers\n",
        "    if (epoch)%1 ==0 :\n",
        "      print (f\"Epoch is {epoch}, loss is {loss}\")\n",
        "    loss.backward()\n",
        "    \n",
        "    rnn_model.J.grad *= rnn_model.mask\n",
        "\n",
        "\n",
        "    optimizer.step()    # Does the update\n",
        "    loss_list.append(loss)"
      ]
    },
    {
      "cell_type": "code",
      "execution_count": 136,
      "metadata": {},
      "outputs": [],
      "source": [
        "torch.save(rnn_model.state_dict(), \"intraregion_sparse_weights.pt\")"
      ]
    },
    {
      "cell_type": "code",
      "execution_count": 17,
      "metadata": {},
      "outputs": [
        {
          "data": {
            "text/plain": [
              "tensor(0.0865)"
            ]
          },
          "execution_count": 17,
          "metadata": {},
          "output_type": "execute_result"
        }
      ],
      "source": [
        "torch.max(saved_LEs[-1])"
      ]
    },
    {
      "cell_type": "code",
      "execution_count": 22,
      "metadata": {},
      "outputs": [],
      "source": [
        "torch.save(saved_LEs, \"regular_LEs.pt\")"
      ]
    },
    {
      "cell_type": "code",
      "execution_count": 23,
      "metadata": {},
      "outputs": [
        {
          "data": {
            "image/png": "[encoded data removed]",
            "text/plain": [
              "<Figure size 640x480 with 1 Axes>"
            ]
          },
          "metadata": {},
          "output_type": "display_data"
        }
      ],
      "source": [
        "len(saved_LEs)\n",
        "\n",
        "for i, LEs in enumerate(saved_LEs):\n",
        "    plt.scatter(np.arange(300), torch.sort(LEs, dim=0, descending=True).values.detach().numpy(), label=f'Epoch {i*30}', s=1)\n",
        "plt.title(\"Lyapunov spectra during training (fully connected)\")\n",
        "plt.legend()\n",
        "plt.savefig(\"plots/LS/regular_LEs.png\", dpi=1000, transparent=True)\n",
        "plt.show()"
      ]
    },
    {
      "cell_type": "code",
      "execution_count": null,
      "metadata": {},
      "outputs": [],
      "source": []
    },
    {
      "cell_type": "code",
      "execution_count": 13,
      "metadata": {},
      "outputs": [
        {
          "data": {
            "text/plain": [
              "tensor(-0.0011)"
            ]
          },
          "execution_count": 13,
          "metadata": {},
          "output_type": "execute_result"
        }
      ],
      "source": [
        "saved_LEs = torch.load(\"interregion_sparse_LEs.pt\")\n",
        "saved_LEs = torch.load(\"intraregion_sparse_LEs.pt\")\n",
        "#saved_LEs = torch.load(\"regular_LEs.pt\")\n",
        "saved_LEs[-1].max()"
      ]
    },
    {
      "cell_type": "code",
      "execution_count": 40,
      "metadata": {},
      "outputs": [
        {
          "data": {
            "text/plain": [
              "<matplotlib.collections.PathCollection at 0x20be3f3e8e0>"
            ]
          },
          "execution_count": 40,
          "metadata": {},
          "output_type": "execute_result"
        },
        {
          "data": {
            "image/png": "[encoded data removed]",
            "text/plain": [
              "<Figure size 640x480 with 1 Axes>"
            ]
          },
          "metadata": {},
          "output_type": "display_data"
        }
      ],
      "source": [
        "plt.scatter(np.arange(300), torch.sort(total_exponents, dim=0, descending=True).values.detach().numpy())"
      ]
    },
    {
      "cell_type": "code",
      "execution_count": null,
      "metadata": {},
      "outputs": [],
      "source": [
        "stored_regular_weigh"
      ]
    },
    {
      "cell_type": "code",
      "execution_count": 14,
      "metadata": {},
      "outputs": [],
      "source": [
        "from torch.autograd.functional import jacobian\n",
        "def calculate_lyapunov_exponents(model, iterations=2000):\n",
        "    hidden = torch.zeros(300,1)\n",
        "    hidden = torch.Tensor(Adata[:, 0, np.newaxis])\n",
        "\n",
        "    Q = torch.reshape(torch.eye(300),  (1,300,300)).to('cpu')\n",
        "\n",
        "    model.eval()\n",
        "    total_exponents = torch.zeros(300,1)\n",
        "    for i in range(iterations):\n",
        "        output, new_hidden = model(hidden)\n",
        "        hidden = new_hidden\n",
        "        jac = jacobian(model, hidden)[1].squeeze()\n",
        "        \n",
        "        Q = torch.matmul(jac, Q)\n",
        "        \n",
        "        upper_triangular_matrix = torch.linalg.qr(Q).R\n",
        "   \n",
        "        total_exponents += torch.log(abs(torch.diagonal(upper_triangular_matrix)))\n",
        "\n",
        "    total_exponents /= iterations\n",
        "    return total_exponents"
      ]
    },
    {
      "cell_type": "code",
      "execution_count": 38,
      "metadata": {},
      "outputs": [
        {
          "name": "stdout",
          "output_type": "stream",
          "text": [
            "tensor([[ 0.1586],\n",
            "        [-2.2505],\n",
            "        [-2.7982],\n",
            "        [-2.6249],\n",
            "        [-3.6356],\n",
            "        [-3.3192],\n",
            "        [-2.1042],\n",
            "        [-2.1742],\n",
            "        [-2.1442],\n",
            "        [-3.4155],\n",
            "        [-2.1450],\n",
            "        [-2.8344],\n",
            "        [-2.4814],\n",
            "        [-2.8670],\n",
            "        [-1.9773],\n",
            "        [-2.9107],\n",
            "        [-2.3256],\n",
            "        [-2.3362],\n",
            "        [-1.5081],\n",
            "        [-2.2226],\n",
            "        [-2.5367],\n",
            "        [-3.3191],\n",
            "        [-2.4184],\n",
            "        [-4.3286],\n",
            "        [-2.0175],\n",
            "        [-2.5159],\n",
            "        [-2.1262],\n",
            "        [-2.4253],\n",
            "        [-2.5377],\n",
            "        [-2.3012],\n",
            "        [-2.1183],\n",
            "        [-1.6950],\n",
            "        [-3.2762],\n",
            "        [-3.2176],\n",
            "        [-2.5539],\n",
            "        [-3.9532],\n",
            "        [-3.0459],\n",
            "        [-2.2453],\n",
            "        [-2.2313],\n",
            "        [-3.1988],\n",
            "        [-2.0076],\n",
            "        [-2.9231],\n",
            "        [-2.1599],\n",
            "        [-2.7917],\n",
            "        [-2.3584],\n",
            "        [-2.3409],\n",
            "        [-2.6987],\n",
            "        [-2.0847],\n",
            "        [-3.1131],\n",
            "        [-2.8545],\n",
            "        [-3.1450],\n",
            "        [-3.0642],\n",
            "        [-2.9973],\n",
            "        [-3.5369],\n",
            "        [-2.3036],\n",
            "        [-2.6512],\n",
            "        [-2.4987],\n",
            "        [-2.4939],\n",
            "        [-2.3820],\n",
            "        [-2.8723],\n",
            "        [-2.2686],\n",
            "        [-2.5914],\n",
            "        [-2.7671],\n",
            "        [-2.2653],\n",
            "        [-1.7293],\n",
            "        [-2.4999],\n",
            "        [-2.9638],\n",
            "        [-2.9958],\n",
            "        [-2.8038],\n",
            "        [-1.6809],\n",
            "        [-2.5791],\n",
            "        [-3.4541],\n",
            "        [-2.7190],\n",
            "        [-2.3206],\n",
            "        [-3.1485],\n",
            "        [-2.8447],\n",
            "        [-2.5197],\n",
            "        [-3.5137],\n",
            "        [-3.1177],\n",
            "        [-1.9467],\n",
            "        [-2.5871],\n",
            "        [-2.9274],\n",
            "        [-2.4041],\n",
            "        [-3.5550],\n",
            "        [-2.2736],\n",
            "        [-3.4040],\n",
            "        [-1.9035],\n",
            "        [-2.8408],\n",
            "        [-2.7499],\n",
            "        [-2.7981],\n",
            "        [-2.5584],\n",
            "        [-3.9659],\n",
            "        [-1.6935],\n",
            "        [-3.1861],\n",
            "        [-3.5022],\n",
            "        [-1.6020],\n",
            "        [-3.1979],\n",
            "        [-3.1567],\n",
            "        [-1.9073],\n",
            "        [-2.2155],\n",
            "        [-3.2015],\n",
            "        [-2.7982],\n",
            "        [-2.3100],\n",
            "        [-3.8180],\n",
            "        [-3.1523],\n",
            "        [-2.9027],\n",
            "        [-2.7499],\n",
            "        [-3.6229],\n",
            "        [-3.3439],\n",
            "        [-3.6910],\n",
            "        [-3.0794],\n",
            "        [-4.5323],\n",
            "        [-4.0036],\n",
            "        [-3.4663],\n",
            "        [-3.9581],\n",
            "        [-4.5290],\n",
            "        [-1.9016],\n",
            "        [-2.6827],\n",
            "        [-4.0693],\n",
            "        [-4.1574],\n",
            "        [-2.7768],\n",
            "        [-3.1746],\n",
            "        [-2.4296],\n",
            "        [-4.3712],\n",
            "        [-3.0820],\n",
            "        [-3.9401],\n",
            "        [-3.3933],\n",
            "        [-4.2256],\n",
            "        [-4.3270],\n",
            "        [-4.2707],\n",
            "        [-2.2902],\n",
            "        [-3.8361],\n",
            "        [-2.2593],\n",
            "        [-3.4508],\n",
            "        [-2.8886],\n",
            "        [-2.5540],\n",
            "        [-3.1890],\n",
            "        [-4.0475],\n",
            "        [-2.3430],\n",
            "        [-3.8902],\n",
            "        [-3.4708],\n",
            "        [-2.7836],\n",
            "        [-2.9889],\n",
            "        [-2.1825],\n",
            "        [-3.4791],\n",
            "        [-2.7604],\n",
            "        [-3.8811],\n",
            "        [-3.3666],\n",
            "        [-2.9743],\n",
            "        [-2.9838],\n",
            "        [-2.4746],\n",
            "        [-3.1606],\n",
            "        [-2.4366],\n",
            "        [-4.1906],\n",
            "        [-3.7950],\n",
            "        [-3.1992],\n",
            "        [-2.6429],\n",
            "        [-2.7434],\n",
            "        [-3.0751],\n",
            "        [-3.0539],\n",
            "        [-4.5073],\n",
            "        [-4.6914],\n",
            "        [-3.4424],\n",
            "        [-3.8346],\n",
            "        [-2.6105],\n",
            "        [-3.2432],\n",
            "        [-2.6892],\n",
            "        [-2.4581],\n",
            "        [-3.6653],\n",
            "        [-4.0206],\n",
            "        [-3.5001],\n",
            "        [-3.4177],\n",
            "        [-4.5193],\n",
            "        [-2.9295],\n",
            "        [-3.0795],\n",
            "        [-2.3061],\n",
            "        [-3.9367],\n",
            "        [-2.7441],\n",
            "        [-2.6272],\n",
            "        [-1.7095],\n",
            "        [-2.4718],\n",
            "        [-3.0703],\n",
            "        [-2.9167],\n",
            "        [-3.4394],\n",
            "        [-2.3578],\n",
            "        [-3.2164],\n",
            "        [-3.4453],\n",
            "        [-2.5599],\n",
            "        [-1.9342],\n",
            "        [-3.3029],\n",
            "        [-4.0264],\n",
            "        [-4.4621],\n",
            "        [-4.9379],\n",
            "        [-3.3797],\n",
            "        [-2.9493],\n",
            "        [-2.3979],\n",
            "        [-3.1655],\n",
            "        [-2.8687],\n",
            "        [-2.6994],\n",
            "        [-2.4298],\n",
            "        [-3.6342],\n",
            "        [-3.9456],\n",
            "        [-2.9956],\n",
            "        [-2.6226],\n",
            "        [-4.0197],\n",
            "        [-4.7348],\n",
            "        [-3.2951],\n",
            "        [-3.5847],\n",
            "        [-3.1960],\n",
            "        [-3.4388],\n",
            "        [-2.7484],\n",
            "        [-2.5268],\n",
            "        [-2.9402],\n",
            "        [-2.9347],\n",
            "        [-3.2390],\n",
            "        [-3.2338],\n",
            "        [-2.8556],\n",
            "        [-4.1634],\n",
            "        [-3.7363],\n",
            "        [-3.0452],\n",
            "        [-3.9560],\n",
            "        [-2.5355],\n",
            "        [-2.9298],\n",
            "        [-3.0500],\n",
            "        [-4.2360],\n",
            "        [-3.2108],\n",
            "        [-3.6604],\n",
            "        [-3.7450],\n",
            "        [-2.9289],\n",
            "        [-3.1594],\n",
            "        [-3.7616],\n",
            "        [-2.7826],\n",
            "        [-3.8490],\n",
            "        [-3.5910],\n",
            "        [-3.6419],\n",
            "        [-2.1058],\n",
            "        [-2.7868],\n",
            "        [-1.6689],\n",
            "        [-3.3614],\n",
            "        [-3.0016],\n",
            "        [-2.7786],\n",
            "        [-3.0707],\n",
            "        [-3.0307],\n",
            "        [-3.3268],\n",
            "        [-2.9822],\n",
            "        [-3.0726],\n",
            "        [-3.5031],\n",
            "        [-2.2881],\n",
            "        [-3.2210],\n",
            "        [-2.5454],\n",
            "        [-3.0285],\n",
            "        [-3.7410],\n",
            "        [-3.8708],\n",
            "        [-3.3790],\n",
            "        [-2.8046],\n",
            "        [-2.8101],\n",
            "        [-3.3878],\n",
            "        [-2.6256],\n",
            "        [-3.9549],\n",
            "        [-3.1979],\n",
            "        [-3.5732],\n",
            "        [-3.7271],\n",
            "        [-3.4024],\n",
            "        [-2.0079],\n",
            "        [-3.6170],\n",
            "        [-2.0827],\n",
            "        [-2.6980],\n",
            "        [-2.7996],\n",
            "        [-2.4042],\n",
            "        [-2.8404],\n",
            "        [-3.5670],\n",
            "        [-3.5317],\n",
            "        [-3.7913],\n",
            "        [-3.1711],\n",
            "        [-3.1554],\n",
            "        [-4.1597],\n",
            "        [-2.3641],\n",
            "        [-2.5264],\n",
            "        [-4.0788],\n",
            "        [-2.8968],\n",
            "        [-2.9914],\n",
            "        [-2.4257],\n",
            "        [-3.6734],\n",
            "        [-4.6568],\n",
            "        [-2.6196],\n",
            "        [-2.7369],\n",
            "        [-3.0531],\n",
            "        [-2.7535],\n",
            "        [-2.5664],\n",
            "        [-4.4197],\n",
            "        [-2.6002],\n",
            "        [-2.8791],\n",
            "        [-3.1071],\n",
            "        [-2.7074],\n",
            "        [-2.8210],\n",
            "        [-3.3628],\n",
            "        [-2.4771],\n",
            "        [-4.0671],\n",
            "        [-2.5734],\n",
            "        [-2.9706]])\n"
          ]
        }
      ],
      "source": [
        "hidden = torch.zeros(300,1)\n",
        "hidden = torch.Tensor(Adata[:, 0, np.newaxis])\n",
        "\n",
        "Q = torch.reshape(torch.eye(300),  (1,300,300)).to('cpu')\n",
        "\n",
        "rnn_model.eval()\n",
        "total_exponents = torch.zeros(300,1)\n",
        "iterations = 2000\n",
        "for i in range(iterations):\n",
        "    output, new_hidden = rnn_model(hidden)\n",
        "    hidden = new_hidden\n",
        "    jac = jacobian(rnn_model, hidden)[1].squeeze()\n",
        "    \n",
        "    Q = torch.matmul(jac, Q)\n",
        "    \n",
        "    upper_triangular_matrix = torch.linalg.qr(Q).R\n",
        "   # print(upper_triangular_matrix.shape)\n",
        " \n",
        " #   s = torch.diag_embed(torch.sign(torch.diagonal(upper_triangular_matrix)))#extract sign of each leading r value\n",
        " #   print(s.shape)\n",
        " #   Q = torch.matmul(Q.squeeze(), s.squeeze())\n",
        " #   r = torch.diagonal(torch.matmul(s.squeeze(), upper_triangular_matrix)) #return positive r values and corresponding vectors\n",
        " #   print(Q.shape)\n",
        "    total_exponents += torch.log(abs(torch.diagonal(upper_triangular_matrix)))\n",
        "\n",
        "total_exponents /= iterations\n",
        "print(total_exponents)"
      ]
    },
    {
      "cell_type": "code",
      "execution_count": 333,
      "metadata": {},
      "outputs": [],
      "source": []
    }
  ],
  "metadata": {
    "accelerator": "GPU",
    "colab": {
      "provenance": []
    },
    "gpuClass": "standard",
    "kernelspec": {
      "display_name": "Python 3",
      "language": "python",
      "name": "python3"
    },
    "language_info": {
      "codemirror_mode": {
        "name": "ipython",
        "version": 3
      },
      "file_extension": ".py",
      "mimetype": "text/x-python",
      "name": "python",
      "nbconvert_exporter": "python",
      "pygments_lexer": "ipython3",
      "version": "3.8.7"
    },
    "vscode": {
      "interpreter": {
        "hash": "92db8e5cc7bdb638ff0846ba6daf6443eed122bdb088bfa52b1256def5080051"
      }
    }
  },
  "nbformat": 4,
  "nbformat_minor": 0
}
