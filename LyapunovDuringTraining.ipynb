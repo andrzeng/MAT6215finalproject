{
  "cells": [
    {
      "cell_type": "code",
      "execution_count": 1,
      "metadata": {
        "colab": {
          "base_uri": "https://localhost:8080/"
        },
        "id": "Qc-6ZTF_9r6h",
        "outputId": "361ea6cf-3234-40cf-bfc8-ad289b4d2782"
      },
      "outputs": [
        {
          "data": {
            "text/plain": [
              "\"\\n!git clone https://github.com/rajanlab/CURBD.git\\nimport os \\nos.chdir('/content/CURBD/')\\n\""
            ]
          },
          "execution_count": 1,
          "metadata": {},
          "output_type": "execute_result"
        }
      ],
      "source": [
        "'''\n",
        "!git clone https://github.com/rajanlab/CURBD.git\n",
        "import os \n",
        "os.chdir('/content/CURBD/')\n",
        "'''"
      ]
    },
    {
      "cell_type": "code",
      "execution_count": 4,
      "metadata": {
        "id": "_rCUN8Zk94cA"
      },
      "outputs": [
        {
          "name": "stderr",
          "output_type": "stream",
          "text": [
            "c:\\Users\\Andrew\\AppData\\Local\\Programs\\Python\\Python38\\lib\\site-packages\\tqdm\\auto.py:22: TqdmWarning: IProgress not found. Please update jupyter and ipywidgets. See https://ipywidgets.readthedocs.io/en/stable/user_install.html\n",
            "  from .autonotebook import tqdm as notebook_tqdm\n"
          ]
        }
      ],
      "source": [
        "import numpy as np\n",
        "import numpy.random as npr\n",
        "import pylab\n",
        "import curbd\n",
        "import math\n",
        "import matplotlib.pyplot as plt\n",
        "#%matplotlib\n",
        "import seaborn as sns\n",
        "\n",
        "\n",
        "import torch\n",
        "import torch.nn as nn\n",
        "from torch.nn import init\n",
        "from torch.nn import functional as F\n",
        "import torch.optim as optim\n",
        "import pickle \n",
        "device = torch.device('cuda' if torch.cuda.is_available() else 'cpu')\n"
      ]
    },
    {
      "cell_type": "code",
      "execution_count": 6,
      "metadata": {
        "id": "riD-5mjq96OJ"
      },
      "outputs": [
        {
          "data": {
            "text/plain": [
              "'sim = curbd.threeRegionSim(number_units=100,\\n                           ga=1.8,\\n                           gb=1.5,\\n                           gc=1.5,\\n                           tau=0.1,\\n                           fracInterReg=0.05,\\n                           ampInterReg=0.02,\\n                           fracExternal=0.5,\\n                           ampInB=1,\\n                           ampInC=-1,\\n                           dtData=0.01,\\n                           T=10,\\n                           leadTime=2,\\n                           bumpStd=0.2,\\n                           )'"
            ]
          },
          "execution_count": 6,
          "metadata": {},
          "output_type": "execute_result"
        }
      ],
      "source": [
        "'''sim = curbd.threeRegionSim(number_units=100,\n",
        "                           ga=1.8,\n",
        "                           gb=1.5,\n",
        "                           gc=1.5,\n",
        "                           tau=0.1,\n",
        "                           fracInterReg=0.05,\n",
        "                           ampInterReg=0.02,\n",
        "                           fracExternal=0.5,\n",
        "                           ampInB=1,\n",
        "                           ampInC=-1,\n",
        "                           dtData=0.01,\n",
        "                           T=10,\n",
        "                           leadTime=2,\n",
        "                           bumpStd=0.2,\n",
        "                           )'''\n",
        "\n",
        "'''with open(\"simulation.pkl\", \"wb\") as f:\n",
        "    pickle.dump(sim, f)'''"
      ]
    },
    {
      "cell_type": "code",
      "execution_count": 45,
      "metadata": {},
      "outputs": [],
      "source": [
        "sim = torch.load(\"REAL_SIM.pt\")"
      ]
    },
    {
      "cell_type": "code",
      "execution_count": 46,
      "metadata": {
        "id": "_baTx7xV995S"
      },
      "outputs": [],
      "source": [
        "#three regions with each region having 100 units and 1201 time series data\n",
        "activity = np.concatenate((sim['Ra'], sim['Rb'], sim['Rc']), 0) #300 x 1201\n",
        "activity = activity[:,:300]\n",
        "\n",
        "Na = sim['params']['Na']\n",
        "Nb = sim['params']['Nb']\n",
        "Nc = sim['params']['Nc']\n",
        "\n",
        "regions = []\n",
        "regions.append(['Region A', np.arange(0, Na)])\n",
        "regions.append(['Region B', np.arange(Na, Na + Nb)])\n",
        "regions.append(['Region C', np.arange(Na + Nb, Na + Nb + Nc)])\n",
        "regions = np.array(regions, dtype=object)"
      ]
    },
    {
      "cell_type": "markdown",
      "metadata": {
        "id": "qBCmBCJ1-fEj"
      },
      "source": [
        "# Initializing the parameters "
      ]
    },
    {
      "cell_type": "code",
      "execution_count": 47,
      "metadata": {
        "id": "77y1YH4g-PV2"
      },
      "outputs": [],
      "source": [
        "dtData=sim['params']['dtData'] # time step of training data\n",
        "# dtData=None\n",
        "dtFactor=5 # number of interpolation steps for RNN \n",
        "regions=regions # number of regions and names of the regions\n",
        "# tauRNN=2*sim['params']['tau']/2 # decay constant of RNN \n",
        "tauRNN=50 # decay constant of RNN \n",
        "\n",
        "g=1.5 # instability constant \n",
        "tauWN=0.1 #decay constant on filtered white noise inputs\n",
        "ampInWN=0.01 #input amplitude of filtered white noise \n",
        "resetPoints=None\n",
        "plotStatus=True\n",
        "regions=None\n"
      ]
    },
    {
      "cell_type": "code",
      "execution_count": 48,
      "metadata": {
        "id": "xOz5es3m-VwP"
      },
      "outputs": [],
      "source": [
        "if dtData is None: #0.01\n",
        "    print('dtData not specified. Defaulting to 1.');\n",
        "    dtData = 1;\n",
        "if resetPoints is None:\n",
        "    resetPoints = [0, ]\n",
        "if regions is None:\n",
        "    regions = {}"
      ]
    },
    {
      "cell_type": "code",
      "execution_count": 49,
      "metadata": {
        "id": "hOL51DQm-lgD"
      },
      "outputs": [],
      "source": [
        "number_units = activity.shape[0] #300 -- the total number of units \n",
        "number_learn = activity.shape[0] #300\n",
        "dtRNN = dtData / float(dtFactor) # 0.01/5=0.002"
      ]
    },
    {
      "cell_type": "code",
      "execution_count": 50,
      "metadata": {
        "id": "TlpOy7kX_e9g"
      },
      "outputs": [],
      "source": [
        "learnList = npr.permutation(number_units) #randomize the units\n",
        "iTarget = learnList[:number_learn]\n",
        "iNonTarget = learnList[number_learn:] # []\n",
        "\n",
        "tData = dtData*np.arange(activity.shape[1]) #   [0, 0.01, 0.02 ....,12.01] #1201 input time steps \n",
        "tRNN = np.arange(0, tData[-1] + dtRNN, dtRNN) # [0, 0.002, 0.004 ...., 12.01] #6000 rnn time steps"
      ]
    },
    {
      "cell_type": "markdown",
      "metadata": {
        "id": "8B_UhfrJTmoZ"
      },
      "source": [
        "# External Input to RNN"
      ]
    },
    {
      "cell_type": "code",
      "execution_count": 51,
      "metadata": {
        "id": "LsQjmRizAB-V"
      },
      "outputs": [],
      "source": [
        "ampWN = math.sqrt(tauWN/dtRNN) # (0.1/0.002)\n",
        "iWN = ampWN * npr.randn(number_units, len(tRNN)) #gaussian noise ? #300x6001\n",
        "inputWN = np.ones((number_units, len(tRNN))) #300x6001\n",
        "# print(\"inputWN : \",inputWN)\n",
        "for tt in range(1, len(tRNN)):\n",
        "    inputWN[:, tt] = iWN[:, tt] + (inputWN[:, tt - 1] - iWN[:, tt])*np.exp(- (dtRNN / tauWN)) # solve the above differential equation \n",
        "inputWN = ampInWN * inputWN # external input h(t)\n"
      ]
    },
    {
      "cell_type": "markdown",
      "metadata": {
        "id": "shOWfQcVSmeR"
      },
      "source": [
        "# Set up target training data"
      ]
    },
    {
      "cell_type": "code",
      "execution_count": 52,
      "metadata": {
        "colab": {
          "base_uri": "https://localhost:8080/"
        },
        "id": "mlEoL7WsRabN",
        "outputId": "82fc253e-0c7b-48f8-c7b0-d8606301f2ec"
      },
      "outputs": [
        {
          "name": "stdout",
          "output_type": "stream",
          "text": [
            "(300, 300)\n"
          ]
        }
      ],
      "source": [
        "Adata = activity.copy()\n",
        "Adata = Adata/Adata.max()\n",
        "Adata = np.minimum(Adata, 0.999) # elementwise minimum \n",
        "Adata = np.maximum(Adata, -0.999) # elementwise max\n",
        "print (Adata.shape)"
      ]
    },
    {
      "cell_type": "markdown",
      "metadata": {
        "id": "Y71GXazFhGQJ"
      },
      "source": [
        "# Model Definition"
      ]
    },
    {
      "cell_type": "code",
      "execution_count": 100,
      "metadata": {
        "id": "nqsHjhoVTgOx"
      },
      "outputs": [],
      "source": [
        "import sys \n",
        "\n",
        "class CTRNN(nn.Module):\n",
        "    \"\"\"Continuous-time RNN.\"\"\"\n",
        "    def __init__(self,\n",
        "                 g,\n",
        "                 tauRNN,\n",
        "                 dtRNN,\n",
        "                 input_units,\n",
        "                 output_units,\n",
        "                 dt=None,\n",
        "                 interregion_sparsity=0.1, #Lower = more sparse, 1 to disable\n",
        "                 **kwargs):\n",
        "      \n",
        "        super(CTRNN,self).__init__()\n",
        "\n",
        "        self.tauRNN = tauRNN\n",
        "        self.dtRNN=dtRNN\n",
        "        self.g=g\n",
        "        self.input_units=input_units\n",
        "        self.output_units=output_units\n",
        "        \n",
        "        \n",
        "#        print(self.J)\n",
        "        mask = torch.ones(300,300)\n",
        "        mask[:100, 100:300] = torch.rand_like(mask[:100, 100:300]) <= interregion_sparsity\n",
        "        mask[100:200, 0:100] = torch.rand_like(mask[100:200, 0:100]) <= interregion_sparsity\n",
        "        mask[100:200, 200:] = torch.rand_like(mask[100:200, 200:]) <= interregion_sparsity\n",
        "        mask[200:,0:200] = torch.rand_like(mask[200:,0:200]) <= interregion_sparsity\n",
        "        self.mask = mask\n",
        "        self.J = nn.Parameter((self.g * torch.Tensor(npr.randn(input_units, output_units) / math.sqrt(output_units)))  * self.mask )\n",
        "\n",
        "        #print(torch.numel(mask[0:100, 100:]))\n",
        "      \n",
        "    def forward(self, hidden, noise=None):\n",
        "        if(noise is not None):\n",
        "           noise = torch.zeros_like(noise)\n",
        "        \n",
        "        \"\"\"Propogate input through the network.\"\"\"\n",
        "        \n",
        "        # When calculating fixed points: We want to find _hidden_ vectors such that -hidden + JR equals the 0 vector.\n",
        "        activation = torch.tanh(torch.Tensor(hidden))\n",
        "        JR = torch.matmul(self.J, activation).reshape((self.input_units,1))\n",
        "        \n",
        "\n",
        "        new_hidden = hidden + self.dtRNN*(-hidden + JR)/self.tauRNN\n",
        "        return activation, new_hidden\n",
        "\n"
      ]
    },
    {
      "cell_type": "code",
      "execution_count": 112,
      "metadata": {},
      "outputs": [],
      "source": [
        "rnn_model = CTRNN(g=g,\n",
        "                  tauRNN=tauRNN,\n",
        "                  dtRNN=dtRNN,\n",
        "                  input_units=number_units,\n",
        "                  output_units=number_units,\n",
        "                  interregion_sparsity=0.1\n",
        "                  )"
      ]
    },
    {
      "cell_type": "markdown",
      "metadata": {
        "id": "gNYTk3LERhrA"
      },
      "source": [
        "# Training"
      ]
    },
    {
      "cell_type": "code",
      "execution_count": 113,
      "metadata": {
        "colab": {
          "base_uri": "https://localhost:8080/"
        },
        "id": "ahldAtgCRlYs",
        "outputId": "e5d1a7a4-57fe-4c96-aeff-49cd01328367"
      },
      "outputs": [
        {
          "name": "stdout",
          "output_type": "stream",
          "text": [
            "Epoch is 0, loss is 148.44366455078125\n",
            "Epoch is 1, loss is 96.95308685302734\n",
            "Epoch is 2, loss is 74.02584075927734\n",
            "Epoch is 3, loss is 64.5141830444336\n",
            "Epoch is 4, loss is 59.44781494140625\n",
            "Epoch is 5, loss is 55.67951583862305\n",
            "Epoch is 6, loss is 52.73139190673828\n",
            "Epoch is 7, loss is 50.61386489868164\n",
            "Epoch is 8, loss is 48.773990631103516\n",
            "Epoch is 9, loss is 46.979305267333984\n",
            "Epoch is 10, loss is 45.28992462158203\n",
            "Epoch is 11, loss is 43.79042053222656\n",
            "Epoch is 12, loss is 42.40071487426758\n",
            "Epoch is 13, loss is 41.130619049072266\n",
            "Epoch is 14, loss is 40.03103256225586\n",
            "Epoch is 15, loss is 39.34748840332031\n",
            "Epoch is 16, loss is 41.382781982421875\n",
            "Epoch is 17, loss is 37.52671813964844\n",
            "Epoch is 18, loss is 48.62327194213867\n",
            "Epoch is 19, loss is 42.245933532714844\n",
            "Epoch is 20, loss is 49.982444763183594\n",
            "Epoch is 21, loss is 50.20461654663086\n",
            "Epoch is 22, loss is 47.25807189941406\n",
            "Epoch is 23, loss is 43.936622619628906\n",
            "Epoch is 24, loss is 41.34172821044922\n",
            "Epoch is 25, loss is 39.78483200073242\n",
            "Epoch is 26, loss is 39.01133346557617\n",
            "Epoch is 27, loss is 38.41507339477539\n",
            "Epoch is 28, loss is 37.64414596557617\n",
            "Epoch is 29, loss is 36.98761749267578\n",
            "Epoch is 30, loss is 36.58782196044922\n",
            "Epoch is 31, loss is 36.26182174682617\n",
            "Epoch is 32, loss is 35.83032989501953\n",
            "Epoch is 33, loss is 35.275718688964844\n",
            "Epoch is 34, loss is 34.6265983581543\n",
            "Epoch is 35, loss is 33.94748306274414\n",
            "Epoch is 36, loss is 33.2900390625\n",
            "Epoch is 37, loss is 32.673362731933594\n",
            "Epoch is 38, loss is 32.0936279296875\n",
            "Epoch is 39, loss is 31.541593551635742\n",
            "Epoch is 40, loss is 31.013683319091797\n",
            "Epoch is 41, loss is 30.502967834472656\n",
            "Epoch is 42, loss is 29.962892532348633\n",
            "Epoch is 43, loss is 29.38055419921875\n",
            "Epoch is 44, loss is 28.794124603271484\n",
            "Epoch is 45, loss is 28.233121871948242\n",
            "Epoch is 46, loss is 27.71077537536621\n",
            "Epoch is 47, loss is 27.188560485839844\n",
            "Epoch is 48, loss is 26.672094345092773\n",
            "Epoch is 49, loss is 26.182300567626953\n",
            "Epoch is 50, loss is 25.738048553466797\n",
            "Epoch is 51, loss is 25.29550552368164\n",
            "Epoch is 52, loss is 24.82914924621582\n",
            "Epoch is 53, loss is 24.34847068786621\n",
            "Epoch is 54, loss is 23.890180587768555\n",
            "Epoch is 55, loss is 23.4693660736084\n",
            "Epoch is 56, loss is 23.06962013244629\n",
            "Epoch is 57, loss is 22.679712295532227\n",
            "Epoch is 58, loss is 22.295631408691406\n",
            "Epoch is 59, loss is 21.91598892211914\n",
            "Epoch is 60, loss is 21.545175552368164\n",
            "Epoch is 61, loss is 21.189800262451172\n",
            "Epoch is 62, loss is 20.848350524902344\n",
            "Epoch is 63, loss is 20.5191707611084\n",
            "Epoch is 64, loss is 20.200653076171875\n",
            "Epoch is 65, loss is 19.89028549194336\n",
            "Epoch is 66, loss is 19.5899715423584\n",
            "Epoch is 67, loss is 19.302825927734375\n",
            "Epoch is 68, loss is 19.03508758544922\n",
            "Epoch is 69, loss is 18.80626106262207\n",
            "Epoch is 70, loss is 18.648914337158203\n",
            "Epoch is 71, loss is 18.633085250854492\n",
            "Epoch is 72, loss is 18.417949676513672\n",
            "Epoch is 73, loss is 17.990816116333008\n",
            "Epoch is 74, loss is 17.478960037231445\n",
            "Epoch is 75, loss is 17.441240310668945\n",
            "Epoch is 76, loss is 17.39498519897461\n",
            "Epoch is 77, loss is 16.864524841308594\n",
            "Epoch is 78, loss is 16.712182998657227\n",
            "Epoch is 79, loss is 16.680191040039062\n",
            "Epoch is 80, loss is 16.238252639770508\n",
            "Epoch is 81, loss is 16.12535858154297\n",
            "Epoch is 82, loss is 16.04175567626953\n",
            "Epoch is 83, loss is 15.660940170288086\n",
            "Epoch is 84, loss is 15.611576080322266\n",
            "Epoch is 85, loss is 15.464705467224121\n",
            "Epoch is 86, loss is 15.145514488220215\n",
            "Epoch is 87, loss is 15.137213706970215\n",
            "Epoch is 88, loss is 14.929044723510742\n",
            "Epoch is 89, loss is 14.681468963623047\n",
            "Epoch is 90, loss is 14.671051979064941\n",
            "Epoch is 91, loss is 14.428646087646484\n",
            "Epoch is 92, loss is 14.254895210266113\n",
            "Epoch is 93, loss is 14.209227561950684\n",
            "Epoch is 94, loss is 13.96931266784668\n",
            "Epoch is 95, loss is 13.848384857177734\n",
            "Epoch is 96, loss is 13.761951446533203\n",
            "Epoch is 97, loss is 13.551751136779785\n",
            "Epoch is 98, loss is 13.45801830291748\n",
            "Epoch is 99, loss is 13.343235969543457\n",
            "Epoch is 100, loss is 13.170350074768066\n",
            "Epoch is 101, loss is 13.084729194641113\n",
            "Epoch is 102, loss is 12.959555625915527\n",
            "Epoch is 103, loss is 12.816506385803223\n",
            "Epoch is 104, loss is 12.730093955993652\n",
            "Epoch is 105, loss is 12.607410430908203\n",
            "Epoch is 106, loss is 12.483077049255371\n",
            "Epoch is 107, loss is 12.395605087280273\n",
            "Epoch is 108, loss is 12.281512260437012\n",
            "Epoch is 109, loss is 12.1683988571167\n",
            "Epoch is 110, loss is 12.081281661987305\n",
            "Epoch is 111, loss is 11.9779691696167\n",
            "Epoch is 112, loss is 11.871871948242188\n",
            "Epoch is 113, loss is 11.7855224609375\n",
            "Epoch is 114, loss is 11.693431854248047\n",
            "Epoch is 115, loss is 11.594531059265137\n",
            "Epoch is 116, loss is 11.508491516113281\n",
            "Epoch is 117, loss is 11.4262056350708\n",
            "Epoch is 118, loss is 11.33647346496582\n",
            "Epoch is 119, loss is 11.250508308410645\n",
            "Epoch is 120, loss is 11.173540115356445\n",
            "Epoch is 121, loss is 11.094867706298828\n",
            "Epoch is 122, loss is 11.012565612792969\n",
            "Epoch is 123, loss is 10.93588638305664\n",
            "Epoch is 124, loss is 10.8644380569458\n",
            "Epoch is 125, loss is 10.791160583496094\n",
            "Epoch is 126, loss is 10.716573715209961\n",
            "Epoch is 127, loss is 10.6455717086792\n",
            "Epoch is 128, loss is 10.578592300415039\n",
            "Epoch is 129, loss is 10.511946678161621\n",
            "Epoch is 130, loss is 10.444024085998535\n",
            "Epoch is 131, loss is 10.377437591552734\n",
            "Epoch is 132, loss is 10.313950538635254\n",
            "Epoch is 133, loss is 10.25261116027832\n",
            "Epoch is 134, loss is 10.191652297973633\n",
            "Epoch is 135, loss is 10.130499839782715\n",
            "Epoch is 136, loss is 10.0702486038208\n",
            "Epoch is 137, loss is 10.01180362701416\n",
            "Epoch is 138, loss is 9.955242156982422\n",
            "Epoch is 139, loss is 9.899938583374023\n",
            "Epoch is 140, loss is 9.845257759094238\n",
            "Epoch is 141, loss is 9.791051864624023\n",
            "Epoch is 142, loss is 9.737318992614746\n",
            "Epoch is 143, loss is 9.684369087219238\n",
            "Epoch is 144, loss is 9.632299423217773\n",
            "Epoch is 145, loss is 9.581189155578613\n",
            "Epoch is 146, loss is 9.530980110168457\n",
            "Epoch is 147, loss is 9.4816255569458\n",
            "Epoch is 148, loss is 9.433074951171875\n",
            "Epoch is 149, loss is 9.385324478149414\n",
            "Epoch is 150, loss is 9.338471412658691\n"
          ]
        }
      ],
      "source": [
        "optimizer = optim.Adam(rnn_model.parameters(), lr=3e-1)\n",
        "criterion = nn.MSELoss()\n",
        "loss_list = []\n",
        "# RNN = np.zeros((number_units, len(tRNN)))\n",
        "saved_LEs = []\n",
        "\n",
        "for epoch in range(151):\n",
        "    if(epoch % 30 == 0):\n",
        "       saved_LEs.append(calculate_lyapunov_exponents(rnn_model, iterations=100))\n",
        "       \n",
        "    tLearn = 0 \n",
        "    iLearn = 0 \n",
        "    loss = 0\n",
        "\n",
        "    hidden = torch.tanh(torch.Tensor(Adata[:, 0, np.newaxis])).to(device)\n",
        "    # RNN[:, 0, np.newaxis] = hidden.detach().cpu().numpy()\n",
        "    # output = hidden\n",
        "    for i in range(1,len(tRNN)):\n",
        "        tLearn += dtRNN\n",
        "        \n",
        "        # RNN[:, i, np.newaxis] = output.detach().cpu().numpy()\n",
        "\n",
        "        output, hidden = rnn_model(hidden,\n",
        "                                  torch.Tensor(inputWN[:, i, np.newaxis]).to(device))\n",
        "        \n",
        "\n",
        "        if tLearn >= dtData:\n",
        "          tLearn=0\n",
        "          running_loss = criterion(output,\n",
        "                                   torch.Tensor(Adata[:, iLearn ,np.newaxis]).to(device))\n",
        "          iLearn = iLearn + 1 \n",
        "          loss+=running_loss\n",
        "    optimizer.zero_grad()   # zero the gradient buffers\n",
        "    if (epoch)%1 ==0 :\n",
        "      print (f\"Epoch is {epoch}, loss is {loss}\")\n",
        "    loss.backward()\n",
        "    \n",
        "    rnn_model.J.grad *= rnn_model.mask\n",
        "\n",
        "\n",
        "    optimizer.step()    # Does the update\n",
        "    loss_list.append(loss)"
      ]
    },
    {
      "cell_type": "code",
      "execution_count": 115,
      "metadata": {},
      "outputs": [],
      "source": [
        "torch.save(rnn_model.state_dict(), \"interregion_sparse.pt\")"
      ]
    },
    {
      "cell_type": "code",
      "execution_count": 114,
      "metadata": {},
      "outputs": [
        {
          "data": {
            "image/png": "[encoded data removed]",
            "text/plain": [
              "<Figure size 640x480 with 1 Axes>"
            ]
          },
          "metadata": {},
          "output_type": "display_data"
        }
      ],
      "source": [
        "len(saved_LEs)\n",
        "\n",
        "for i, LEs in enumerate(saved_LEs):\n",
        "    plt.scatter(np.arange(300), torch.sort(LEs, dim=0, descending=True).values.detach().numpy(), label=f'{i}')\n",
        "\n",
        "plt.legend()\n",
        "plt.show()"
      ]
    },
    {
      "cell_type": "code",
      "execution_count": 40,
      "metadata": {},
      "outputs": [
        {
          "data": {
            "text/plain": [
              "<matplotlib.collections.PathCollection at 0x20be3f3e8e0>"
            ]
          },
          "execution_count": 40,
          "metadata": {},
          "output_type": "execute_result"
        },
        {
          "data": {
            "image/png": "[encoded data removed]",
            "text/plain": [
              "<Figure size 640x480 with 1 Axes>"
            ]
          },
          "metadata": {},
          "output_type": "display_data"
        }
      ],
      "source": [
        "plt.scatter(np.arange(300), torch.sort(total_exponents, dim=0, descending=True).values.detach().numpy())"
      ]
    },
    {
      "cell_type": "code",
      "execution_count": 41,
      "metadata": {},
      "outputs": [],
      "source": [
        "def calculate_lyapunov_exponents(model, iterations=2000):\n",
        "    hidden = torch.zeros(300,1)\n",
        "    hidden = torch.Tensor(Adata[:, 0, np.newaxis])\n",
        "\n",
        "    Q = torch.reshape(torch.eye(300),  (1,300,300)).to('cpu')\n",
        "\n",
        "    model.eval()\n",
        "    total_exponents = torch.zeros(300,1)\n",
        "    for i in range(iterations):\n",
        "        output, new_hidden = model(hidden)\n",
        "        hidden = new_hidden\n",
        "        jac = jacobian(model, hidden)[1].squeeze()\n",
        "        \n",
        "        Q = torch.matmul(jac, Q)\n",
        "        \n",
        "        upper_triangular_matrix = torch.linalg.qr(Q).R\n",
        "   \n",
        "        total_exponents += torch.log(abs(torch.diagonal(upper_triangular_matrix)))\n",
        "\n",
        "    total_exponents /= iterations\n",
        "    return total_exponents"
      ]
    },
    {
      "cell_type": "code",
      "execution_count": 38,
      "metadata": {},
      "outputs": [
        {
          "name": "stdout",
          "output_type": "stream",
          "text": [
            "tensor([[ 0.1586],\n",
            "        [-2.2505],\n",
            "        [-2.7982],\n",
            "        [-2.6249],\n",
            "        [-3.6356],\n",
            "        [-3.3192],\n",
            "        [-2.1042],\n",
            "        [-2.1742],\n",
            "        [-2.1442],\n",
            "        [-3.4155],\n",
            "        [-2.1450],\n",
            "        [-2.8344],\n",
            "        [-2.4814],\n",
            "        [-2.8670],\n",
            "        [-1.9773],\n",
            "        [-2.9107],\n",
            "        [-2.3256],\n",
            "        [-2.3362],\n",
            "        [-1.5081],\n",
            "        [-2.2226],\n",
            "        [-2.5367],\n",
            "        [-3.3191],\n",
            "        [-2.4184],\n",
            "        [-4.3286],\n",
            "        [-2.0175],\n",
            "        [-2.5159],\n",
            "        [-2.1262],\n",
            "        [-2.4253],\n",
            "        [-2.5377],\n",
            "        [-2.3012],\n",
            "        [-2.1183],\n",
            "        [-1.6950],\n",
            "        [-3.2762],\n",
            "        [-3.2176],\n",
            "        [-2.5539],\n",
            "        [-3.9532],\n",
            "        [-3.0459],\n",
            "        [-2.2453],\n",
            "        [-2.2313],\n",
            "        [-3.1988],\n",
            "        [-2.0076],\n",
            "        [-2.9231],\n",
            "        [-2.1599],\n",
            "        [-2.7917],\n",
            "        [-2.3584],\n",
            "        [-2.3409],\n",
            "        [-2.6987],\n",
            "        [-2.0847],\n",
            "        [-3.1131],\n",
            "        [-2.8545],\n",
            "        [-3.1450],\n",
            "        [-3.0642],\n",
            "        [-2.9973],\n",
            "        [-3.5369],\n",
            "        [-2.3036],\n",
            "        [-2.6512],\n",
            "        [-2.4987],\n",
            "        [-2.4939],\n",
            "        [-2.3820],\n",
            "        [-2.8723],\n",
            "        [-2.2686],\n",
            "        [-2.5914],\n",
            "        [-2.7671],\n",
            "        [-2.2653],\n",
            "        [-1.7293],\n",
            "        [-2.4999],\n",
            "        [-2.9638],\n",
            "        [-2.9958],\n",
            "        [-2.8038],\n",
            "        [-1.6809],\n",
            "        [-2.5791],\n",
            "        [-3.4541],\n",
            "        [-2.7190],\n",
            "        [-2.3206],\n",
            "        [-3.1485],\n",
            "        [-2.8447],\n",
            "        [-2.5197],\n",
            "        [-3.5137],\n",
            "        [-3.1177],\n",
            "        [-1.9467],\n",
            "        [-2.5871],\n",
            "        [-2.9274],\n",
            "        [-2.4041],\n",
            "        [-3.5550],\n",
            "        [-2.2736],\n",
            "        [-3.4040],\n",
            "        [-1.9035],\n",
            "        [-2.8408],\n",
            "        [-2.7499],\n",
            "        [-2.7981],\n",
            "        [-2.5584],\n",
            "        [-3.9659],\n",
            "        [-1.6935],\n",
            "        [-3.1861],\n",
            "        [-3.5022],\n",
            "        [-1.6020],\n",
            "        [-3.1979],\n",
            "        [-3.1567],\n",
            "        [-1.9073],\n",
            "        [-2.2155],\n",
            "        [-3.2015],\n",
            "        [-2.7982],\n",
            "        [-2.3100],\n",
            "        [-3.8180],\n",
            "        [-3.1523],\n",
            "        [-2.9027],\n",
            "        [-2.7499],\n",
            "        [-3.6229],\n",
            "        [-3.3439],\n",
            "        [-3.6910],\n",
            "        [-3.0794],\n",
            "        [-4.5323],\n",
            "        [-4.0036],\n",
            "        [-3.4663],\n",
            "        [-3.9581],\n",
            "        [-4.5290],\n",
            "        [-1.9016],\n",
            "        [-2.6827],\n",
            "        [-4.0693],\n",
            "        [-4.1574],\n",
            "        [-2.7768],\n",
            "        [-3.1746],\n",
            "        [-2.4296],\n",
            "        [-4.3712],\n",
            "        [-3.0820],\n",
            "        [-3.9401],\n",
            "        [-3.3933],\n",
            "        [-4.2256],\n",
            "        [-4.3270],\n",
            "        [-4.2707],\n",
            "        [-2.2902],\n",
            "        [-3.8361],\n",
            "        [-2.2593],\n",
            "        [-3.4508],\n",
            "        [-2.8886],\n",
            "        [-2.5540],\n",
            "        [-3.1890],\n",
            "        [-4.0475],\n",
            "        [-2.3430],\n",
            "        [-3.8902],\n",
            "        [-3.4708],\n",
            "        [-2.7836],\n",
            "        [-2.9889],\n",
            "        [-2.1825],\n",
            "        [-3.4791],\n",
            "        [-2.7604],\n",
            "        [-3.8811],\n",
            "        [-3.3666],\n",
            "        [-2.9743],\n",
            "        [-2.9838],\n",
            "        [-2.4746],\n",
            "        [-3.1606],\n",
            "        [-2.4366],\n",
            "        [-4.1906],\n",
            "        [-3.7950],\n",
            "        [-3.1992],\n",
            "        [-2.6429],\n",
            "        [-2.7434],\n",
            "        [-3.0751],\n",
            "        [-3.0539],\n",
            "        [-4.5073],\n",
            "        [-4.6914],\n",
            "        [-3.4424],\n",
            "        [-3.8346],\n",
            "        [-2.6105],\n",
            "        [-3.2432],\n",
            "        [-2.6892],\n",
            "        [-2.4581],\n",
            "        [-3.6653],\n",
            "        [-4.0206],\n",
            "        [-3.5001],\n",
            "        [-3.4177],\n",
            "        [-4.5193],\n",
            "        [-2.9295],\n",
            "        [-3.0795],\n",
            "        [-2.3061],\n",
            "        [-3.9367],\n",
            "        [-2.7441],\n",
            "        [-2.6272],\n",
            "        [-1.7095],\n",
            "        [-2.4718],\n",
            "        [-3.0703],\n",
            "        [-2.9167],\n",
            "        [-3.4394],\n",
            "        [-2.3578],\n",
            "        [-3.2164],\n",
            "        [-3.4453],\n",
            "        [-2.5599],\n",
            "        [-1.9342],\n",
            "        [-3.3029],\n",
            "        [-4.0264],\n",
            "        [-4.4621],\n",
            "        [-4.9379],\n",
            "        [-3.3797],\n",
            "        [-2.9493],\n",
            "        [-2.3979],\n",
            "        [-3.1655],\n",
            "        [-2.8687],\n",
            "        [-2.6994],\n",
            "        [-2.4298],\n",
            "        [-3.6342],\n",
            "        [-3.9456],\n",
            "        [-2.9956],\n",
            "        [-2.6226],\n",
            "        [-4.0197],\n",
            "        [-4.7348],\n",
            "        [-3.2951],\n",
            "        [-3.5847],\n",
            "        [-3.1960],\n",
            "        [-3.4388],\n",
            "        [-2.7484],\n",
            "        [-2.5268],\n",
            "        [-2.9402],\n",
            "        [-2.9347],\n",
            "        [-3.2390],\n",
            "        [-3.2338],\n",
            "        [-2.8556],\n",
            "        [-4.1634],\n",
            "        [-3.7363],\n",
            "        [-3.0452],\n",
            "        [-3.9560],\n",
            "        [-2.5355],\n",
            "        [-2.9298],\n",
            "        [-3.0500],\n",
            "        [-4.2360],\n",
            "        [-3.2108],\n",
            "        [-3.6604],\n",
            "        [-3.7450],\n",
            "        [-2.9289],\n",
            "        [-3.1594],\n",
            "        [-3.7616],\n",
            "        [-2.7826],\n",
            "        [-3.8490],\n",
            "        [-3.5910],\n",
            "        [-3.6419],\n",
            "        [-2.1058],\n",
            "        [-2.7868],\n",
            "        [-1.6689],\n",
            "        [-3.3614],\n",
            "        [-3.0016],\n",
            "        [-2.7786],\n",
            "        [-3.0707],\n",
            "        [-3.0307],\n",
            "        [-3.3268],\n",
            "        [-2.9822],\n",
            "        [-3.0726],\n",
            "        [-3.5031],\n",
            "        [-2.2881],\n",
            "        [-3.2210],\n",
            "        [-2.5454],\n",
            "        [-3.0285],\n",
            "        [-3.7410],\n",
            "        [-3.8708],\n",
            "        [-3.3790],\n",
            "        [-2.8046],\n",
            "        [-2.8101],\n",
            "        [-3.3878],\n",
            "        [-2.6256],\n",
            "        [-3.9549],\n",
            "        [-3.1979],\n",
            "        [-3.5732],\n",
            "        [-3.7271],\n",
            "        [-3.4024],\n",
            "        [-2.0079],\n",
            "        [-3.6170],\n",
            "        [-2.0827],\n",
            "        [-2.6980],\n",
            "        [-2.7996],\n",
            "        [-2.4042],\n",
            "        [-2.8404],\n",
            "        [-3.5670],\n",
            "        [-3.5317],\n",
            "        [-3.7913],\n",
            "        [-3.1711],\n",
            "        [-3.1554],\n",
            "        [-4.1597],\n",
            "        [-2.3641],\n",
            "        [-2.5264],\n",
            "        [-4.0788],\n",
            "        [-2.8968],\n",
            "        [-2.9914],\n",
            "        [-2.4257],\n",
            "        [-3.6734],\n",
            "        [-4.6568],\n",
            "        [-2.6196],\n",
            "        [-2.7369],\n",
            "        [-3.0531],\n",
            "        [-2.7535],\n",
            "        [-2.5664],\n",
            "        [-4.4197],\n",
            "        [-2.6002],\n",
            "        [-2.8791],\n",
            "        [-3.1071],\n",
            "        [-2.7074],\n",
            "        [-2.8210],\n",
            "        [-3.3628],\n",
            "        [-2.4771],\n",
            "        [-4.0671],\n",
            "        [-2.5734],\n",
            "        [-2.9706]])\n"
          ]
        }
      ],
      "source": [
        "hidden = torch.zeros(300,1)\n",
        "hidden = torch.Tensor(Adata[:, 0, np.newaxis])\n",
        "\n",
        "Q = torch.reshape(torch.eye(300),  (1,300,300)).to('cpu')\n",
        "\n",
        "rnn_model.eval()\n",
        "total_exponents = torch.zeros(300,1)\n",
        "iterations = 2000\n",
        "for i in range(iterations):\n",
        "    output, new_hidden = rnn_model(hidden)\n",
        "    hidden = new_hidden\n",
        "    jac = jacobian(rnn_model, hidden)[1].squeeze()\n",
        "    \n",
        "    Q = torch.matmul(jac, Q)\n",
        "    \n",
        "    upper_triangular_matrix = torch.linalg.qr(Q).R\n",
        "   # print(upper_triangular_matrix.shape)\n",
        " \n",
        " #   s = torch.diag_embed(torch.sign(torch.diagonal(upper_triangular_matrix)))#extract sign of each leading r value\n",
        " #   print(s.shape)\n",
        " #   Q = torch.matmul(Q.squeeze(), s.squeeze())\n",
        " #   r = torch.diagonal(torch.matmul(s.squeeze(), upper_triangular_matrix)) #return positive r values and corresponding vectors\n",
        " #   print(Q.shape)\n",
        "    total_exponents += torch.log(abs(torch.diagonal(upper_triangular_matrix)))\n",
        "\n",
        "total_exponents /= iterations\n",
        "print(total_exponents)"
      ]
    },
    {
      "cell_type": "code",
      "execution_count": 333,
      "metadata": {},
      "outputs": [],
      "source": []
    }
  ],
  "metadata": {
    "accelerator": "GPU",
    "colab": {
      "provenance": []
    },
    "gpuClass": "standard",
    "kernelspec": {
      "display_name": "Python 3",
      "name": "python3"
    },
    "language_info": {
      "codemirror_mode": {
        "name": "ipython",
        "version": 3
      },
      "file_extension": ".py",
      "mimetype": "text/x-python",
      "name": "python",
      "nbconvert_exporter": "python",
      "pygments_lexer": "ipython3",
      "version": "3.8.7"
    }
  },
  "nbformat": 4,
  "nbformat_minor": 0
}
