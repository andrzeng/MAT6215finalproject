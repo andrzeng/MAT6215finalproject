{
  "cells": [
    {
      "cell_type": "code",
      "execution_count": 1,
      "metadata": {
        "colab": {
          "base_uri": "https://localhost:8080/"
        },
        "id": "Qc-6ZTF_9r6h",
        "outputId": "361ea6cf-3234-40cf-bfc8-ad289b4d2782"
      },
      "outputs": [
        {
          "data": {
            "text/plain": [
              "\"\\n!git clone https://github.com/rajanlab/CURBD.git\\nimport os \\nos.chdir('/content/CURBD/')\\n\""
            ]
          },
          "execution_count": 1,
          "metadata": {},
          "output_type": "execute_result"
        }
      ],
      "source": [
        "'''\n",
        "!git clone https://github.com/rajanlab/CURBD.git\n",
        "import os \n",
        "os.chdir('/content/CURBD/')\n",
        "'''"
      ]
    },
    {
      "cell_type": "code",
      "execution_count": 2,
      "metadata": {
        "id": "_rCUN8Zk94cA"
      },
      "outputs": [
        {
          "name": "stderr",
          "output_type": "stream",
          "text": [
            "c:\\Users\\Andrew\\AppData\\Local\\Programs\\Python\\Python38\\lib\\site-packages\\tqdm\\auto.py:22: TqdmWarning: IProgress not found. Please update jupyter and ipywidgets. See https://ipywidgets.readthedocs.io/en/stable/user_install.html\n",
            "  from .autonotebook import tqdm as notebook_tqdm\n"
          ]
        }
      ],
      "source": [
        "import numpy as np\n",
        "import numpy.random as npr\n",
        "import pylab\n",
        "import curbd\n",
        "import math\n",
        "import matplotlib.pyplot as plt\n",
        "import seaborn as sns\n",
        "\n",
        "\n",
        "import torch\n",
        "import torch.nn as nn\n",
        "from torch.nn import init\n",
        "from torch.nn import functional as F\n",
        "import torch.optim as optim\n",
        "import pickle \n",
        "device = torch.device('cuda' if torch.cuda.is_available() else 'cpu')\n"
      ]
    },
    {
      "cell_type": "code",
      "execution_count": 3,
      "metadata": {
        "colab": {
          "base_uri": "https://localhost:8080/"
        },
        "id": "RGeJ7JI0zlJ7",
        "outputId": "95e27252-2049-44ba-90bf-c0d4ad88090f"
      },
      "outputs": [
        {
          "name": "stdout",
          "output_type": "stream",
          "text": [
            "cpu\n"
          ]
        }
      ],
      "source": [
        "print (device)"
      ]
    },
    {
      "cell_type": "code",
      "execution_count": 5,
      "metadata": {
        "id": "riD-5mjq96OJ"
      },
      "outputs": [
        {
          "ename": "KeyboardInterrupt",
          "evalue": "",
          "output_type": "error",
          "traceback": [
            "\u001b[1;31m---------------------------------------------------------------------------\u001b[0m",
            "\u001b[1;31mKeyboardInterrupt\u001b[0m                         Traceback (most recent call last)",
            "Cell \u001b[1;32mIn[5], line 1\u001b[0m\n\u001b[1;32m----> 1\u001b[0m sim \u001b[39m=\u001b[39m curbd\u001b[39m.\u001b[39;49mthreeRegionSim(number_units\u001b[39m=\u001b[39;49m\u001b[39m100\u001b[39;49m,\n\u001b[0;32m      2\u001b[0m                            ga\u001b[39m=\u001b[39;49m\u001b[39m1.8\u001b[39;49m,\n\u001b[0;32m      3\u001b[0m                            gb\u001b[39m=\u001b[39;49m\u001b[39m1.5\u001b[39;49m,\n\u001b[0;32m      4\u001b[0m                            gc\u001b[39m=\u001b[39;49m\u001b[39m1.5\u001b[39;49m,\n\u001b[0;32m      5\u001b[0m                            tau\u001b[39m=\u001b[39;49m\u001b[39m0.1\u001b[39;49m,\n\u001b[0;32m      6\u001b[0m                            fracInterReg\u001b[39m=\u001b[39;49m\u001b[39m0.05\u001b[39;49m,\n\u001b[0;32m      7\u001b[0m                            ampInterReg\u001b[39m=\u001b[39;49m\u001b[39m0.02\u001b[39;49m,\n\u001b[0;32m      8\u001b[0m                            fracExternal\u001b[39m=\u001b[39;49m\u001b[39m0.5\u001b[39;49m,\n\u001b[0;32m      9\u001b[0m                            ampInB\u001b[39m=\u001b[39;49m\u001b[39m1\u001b[39;49m,\n\u001b[0;32m     10\u001b[0m                            ampInC\u001b[39m=\u001b[39;49m\u001b[39m-\u001b[39;49m\u001b[39m1\u001b[39;49m,\n\u001b[0;32m     11\u001b[0m                            dtData\u001b[39m=\u001b[39;49m\u001b[39m0.01\u001b[39;49m,\n\u001b[0;32m     12\u001b[0m                            T\u001b[39m=\u001b[39;49m\u001b[39m10\u001b[39;49m,\n\u001b[0;32m     13\u001b[0m                            leadTime\u001b[39m=\u001b[39;49m\u001b[39m2\u001b[39;49m,\n\u001b[0;32m     14\u001b[0m                            bumpStd\u001b[39m=\u001b[39;49m\u001b[39m0.2\u001b[39;49m,\n\u001b[0;32m     15\u001b[0m                            )\n",
            "File \u001b[1;32mc:\\Users\\Andrew\\Documents\\MAT 6215\\actual curbd\\MAT6215finalproject\\curbd.py:547\u001b[0m, in \u001b[0;36mthreeRegionSim\u001b[1;34m(number_units, ga, gb, gc, tau, fracInterReg, ampInterReg, fracExternal, ampInB, ampInC, dtData, T, leadTime, bumpStd, plotSim)\u001b[0m\n\u001b[0;32m    545\u001b[0m     ax\u001b[39m.\u001b[39mpcolormesh(tData, \u001b[39mrange\u001b[39m(Nc), Rseq)\n\u001b[0;32m    546\u001b[0m     ax\u001b[39m.\u001b[39mset_title(\u001b[39m'\u001b[39m\u001b[39mSequence Driver\u001b[39m\u001b[39m'\u001b[39m)\n\u001b[1;32m--> 547\u001b[0m     plt\u001b[39m.\u001b[39;49mpause(\u001b[39m0.05\u001b[39;49m)\n\u001b[0;32m    548\u001b[0m     fig\u001b[39m.\u001b[39mshow()\n\u001b[0;32m    549\u001b[0m \u001b[39mreturn\u001b[39;00m out\n",
            "File \u001b[1;32mc:\\Users\\Andrew\\AppData\\Local\\Programs\\Python\\Python38\\lib\\site-packages\\matplotlib\\pyplot.py:556\u001b[0m, in \u001b[0;36mpause\u001b[1;34m(interval)\u001b[0m\n\u001b[0;32m    554\u001b[0m     \u001b[39mif\u001b[39;00m canvas\u001b[39m.\u001b[39mfigure\u001b[39m.\u001b[39mstale:\n\u001b[0;32m    555\u001b[0m         canvas\u001b[39m.\u001b[39mdraw_idle()\n\u001b[1;32m--> 556\u001b[0m     show(block\u001b[39m=\u001b[39;49m\u001b[39mFalse\u001b[39;49;00m)\n\u001b[0;32m    557\u001b[0m     canvas\u001b[39m.\u001b[39mstart_event_loop(interval)\n\u001b[0;32m    558\u001b[0m \u001b[39melse\u001b[39;00m:\n",
            "File \u001b[1;32mc:\\Users\\Andrew\\AppData\\Local\\Programs\\Python\\Python38\\lib\\site-packages\\matplotlib\\pyplot.py:421\u001b[0m, in \u001b[0;36mshow\u001b[1;34m(*args, **kwargs)\u001b[0m\n\u001b[0;32m    377\u001b[0m \u001b[39m\u001b[39m\u001b[39m\"\"\"\u001b[39;00m\n\u001b[0;32m    378\u001b[0m \u001b[39mDisplay all open figures.\u001b[39;00m\n\u001b[0;32m    379\u001b[0m \n\u001b[1;32m   (...)\u001b[0m\n\u001b[0;32m    418\u001b[0m \u001b[39mexplicitly there.\u001b[39;00m\n\u001b[0;32m    419\u001b[0m \u001b[39m\"\"\"\u001b[39;00m\n\u001b[0;32m    420\u001b[0m _warn_if_gui_out_of_main_thread()\n\u001b[1;32m--> 421\u001b[0m \u001b[39mreturn\u001b[39;00m _get_backend_mod()\u001b[39m.\u001b[39;49mshow(\u001b[39m*\u001b[39;49margs, \u001b[39m*\u001b[39;49m\u001b[39m*\u001b[39;49mkwargs)\n",
            "File \u001b[1;32mc:\\Users\\Andrew\\AppData\\Local\\Programs\\Python\\Python38\\lib\\site-packages\\matplotlib_inline\\backend_inline.py:90\u001b[0m, in \u001b[0;36mshow\u001b[1;34m(close, block)\u001b[0m\n\u001b[0;32m     88\u001b[0m \u001b[39mtry\u001b[39;00m:\n\u001b[0;32m     89\u001b[0m     \u001b[39mfor\u001b[39;00m figure_manager \u001b[39min\u001b[39;00m Gcf\u001b[39m.\u001b[39mget_all_fig_managers():\n\u001b[1;32m---> 90\u001b[0m         display(\n\u001b[0;32m     91\u001b[0m             figure_manager\u001b[39m.\u001b[39;49mcanvas\u001b[39m.\u001b[39;49mfigure,\n\u001b[0;32m     92\u001b[0m             metadata\u001b[39m=\u001b[39;49m_fetch_figure_metadata(figure_manager\u001b[39m.\u001b[39;49mcanvas\u001b[39m.\u001b[39;49mfigure)\n\u001b[0;32m     93\u001b[0m         )\n\u001b[0;32m     94\u001b[0m \u001b[39mfinally\u001b[39;00m:\n\u001b[0;32m     95\u001b[0m     show\u001b[39m.\u001b[39m_to_draw \u001b[39m=\u001b[39m []\n",
            "File \u001b[1;32mc:\\Users\\Andrew\\AppData\\Local\\Programs\\Python\\Python38\\lib\\site-packages\\IPython\\core\\display_functions.py:298\u001b[0m, in \u001b[0;36mdisplay\u001b[1;34m(include, exclude, metadata, transient, display_id, raw, clear, *objs, **kwargs)\u001b[0m\n\u001b[0;32m    296\u001b[0m     publish_display_data(data\u001b[39m=\u001b[39mobj, metadata\u001b[39m=\u001b[39mmetadata, \u001b[39m*\u001b[39m\u001b[39m*\u001b[39mkwargs)\n\u001b[0;32m    297\u001b[0m \u001b[39melse\u001b[39;00m:\n\u001b[1;32m--> 298\u001b[0m     format_dict, md_dict \u001b[39m=\u001b[39m \u001b[39mformat\u001b[39;49m(obj, include\u001b[39m=\u001b[39;49minclude, exclude\u001b[39m=\u001b[39;49mexclude)\n\u001b[0;32m    299\u001b[0m     \u001b[39mif\u001b[39;00m \u001b[39mnot\u001b[39;00m format_dict:\n\u001b[0;32m    300\u001b[0m         \u001b[39m# nothing to display (e.g. _ipython_display_ took over)\u001b[39;00m\n\u001b[0;32m    301\u001b[0m         \u001b[39mcontinue\u001b[39;00m\n",
            "File \u001b[1;32mc:\\Users\\Andrew\\AppData\\Local\\Programs\\Python\\Python38\\lib\\site-packages\\IPython\\core\\formatters.py:177\u001b[0m, in \u001b[0;36mDisplayFormatter.format\u001b[1;34m(self, obj, include, exclude)\u001b[0m\n\u001b[0;32m    175\u001b[0m md \u001b[39m=\u001b[39m \u001b[39mNone\u001b[39;00m\n\u001b[0;32m    176\u001b[0m \u001b[39mtry\u001b[39;00m:\n\u001b[1;32m--> 177\u001b[0m     data \u001b[39m=\u001b[39m formatter(obj)\n\u001b[0;32m    178\u001b[0m \u001b[39mexcept\u001b[39;00m:\n\u001b[0;32m    179\u001b[0m     \u001b[39m# FIXME: log the exception\u001b[39;00m\n\u001b[0;32m    180\u001b[0m     \u001b[39mraise\u001b[39;00m\n",
            "File \u001b[1;32m<decorator-gen-2>:2\u001b[0m, in \u001b[0;36m__call__\u001b[1;34m(self, obj)\u001b[0m\n",
            "File \u001b[1;32mc:\\Users\\Andrew\\AppData\\Local\\Programs\\Python\\Python38\\lib\\site-packages\\IPython\\core\\formatters.py:221\u001b[0m, in \u001b[0;36mcatch_format_error\u001b[1;34m(method, self, *args, **kwargs)\u001b[0m\n\u001b[0;32m    219\u001b[0m \u001b[39m\u001b[39m\u001b[39m\"\"\"show traceback on failed format call\"\"\"\u001b[39;00m\n\u001b[0;32m    220\u001b[0m \u001b[39mtry\u001b[39;00m:\n\u001b[1;32m--> 221\u001b[0m     r \u001b[39m=\u001b[39m method(\u001b[39mself\u001b[39;49m, \u001b[39m*\u001b[39;49margs, \u001b[39m*\u001b[39;49m\u001b[39m*\u001b[39;49mkwargs)\n\u001b[0;32m    222\u001b[0m \u001b[39mexcept\u001b[39;00m \u001b[39mNotImplementedError\u001b[39;00m:\n\u001b[0;32m    223\u001b[0m     \u001b[39m# don't warn on NotImplementedErrors\u001b[39;00m\n\u001b[0;32m    224\u001b[0m     \u001b[39mreturn\u001b[39;00m \u001b[39mself\u001b[39m\u001b[39m.\u001b[39m_check_return(\u001b[39mNone\u001b[39;00m, args[\u001b[39m0\u001b[39m])\n",
            "File \u001b[1;32mc:\\Users\\Andrew\\AppData\\Local\\Programs\\Python\\Python38\\lib\\site-packages\\IPython\\core\\formatters.py:338\u001b[0m, in \u001b[0;36mBaseFormatter.__call__\u001b[1;34m(self, obj)\u001b[0m\n\u001b[0;32m    336\u001b[0m     \u001b[39mpass\u001b[39;00m\n\u001b[0;32m    337\u001b[0m \u001b[39melse\u001b[39;00m:\n\u001b[1;32m--> 338\u001b[0m     \u001b[39mreturn\u001b[39;00m printer(obj)\n\u001b[0;32m    339\u001b[0m \u001b[39m# Finally look for special method names\u001b[39;00m\n\u001b[0;32m    340\u001b[0m method \u001b[39m=\u001b[39m get_real_method(obj, \u001b[39mself\u001b[39m\u001b[39m.\u001b[39mprint_method)\n",
            "File \u001b[1;32mc:\\Users\\Andrew\\AppData\\Local\\Programs\\Python\\Python38\\lib\\site-packages\\IPython\\core\\pylabtools.py:152\u001b[0m, in \u001b[0;36mprint_figure\u001b[1;34m(fig, fmt, bbox_inches, base64, **kwargs)\u001b[0m\n\u001b[0;32m    149\u001b[0m     \u001b[39mfrom\u001b[39;00m \u001b[39mmatplotlib\u001b[39;00m\u001b[39m.\u001b[39;00m\u001b[39mbackend_bases\u001b[39;00m \u001b[39mimport\u001b[39;00m FigureCanvasBase\n\u001b[0;32m    150\u001b[0m     FigureCanvasBase(fig)\n\u001b[1;32m--> 152\u001b[0m fig\u001b[39m.\u001b[39;49mcanvas\u001b[39m.\u001b[39;49mprint_figure(bytes_io, \u001b[39m*\u001b[39;49m\u001b[39m*\u001b[39;49mkw)\n\u001b[0;32m    153\u001b[0m data \u001b[39m=\u001b[39m bytes_io\u001b[39m.\u001b[39mgetvalue()\n\u001b[0;32m    154\u001b[0m \u001b[39mif\u001b[39;00m fmt \u001b[39m==\u001b[39m \u001b[39m'\u001b[39m\u001b[39msvg\u001b[39m\u001b[39m'\u001b[39m:\n",
            "File \u001b[1;32mc:\\Users\\Andrew\\AppData\\Local\\Programs\\Python\\Python38\\lib\\site-packages\\matplotlib\\backend_bases.py:2314\u001b[0m, in \u001b[0;36mFigureCanvasBase.print_figure\u001b[1;34m(self, filename, dpi, facecolor, edgecolor, orientation, format, bbox_inches, pad_inches, bbox_extra_artists, backend, **kwargs)\u001b[0m\n\u001b[0;32m   2308\u001b[0m     renderer \u001b[39m=\u001b[39m _get_renderer(\n\u001b[0;32m   2309\u001b[0m         \u001b[39mself\u001b[39m\u001b[39m.\u001b[39mfigure,\n\u001b[0;32m   2310\u001b[0m         functools\u001b[39m.\u001b[39mpartial(\n\u001b[0;32m   2311\u001b[0m             print_method, orientation\u001b[39m=\u001b[39morientation)\n\u001b[0;32m   2312\u001b[0m     )\n\u001b[0;32m   2313\u001b[0m     \u001b[39mwith\u001b[39;00m \u001b[39mgetattr\u001b[39m(renderer, \u001b[39m\"\u001b[39m\u001b[39m_draw_disabled\u001b[39m\u001b[39m\"\u001b[39m, nullcontext)():\n\u001b[1;32m-> 2314\u001b[0m         \u001b[39mself\u001b[39;49m\u001b[39m.\u001b[39;49mfigure\u001b[39m.\u001b[39;49mdraw(renderer)\n\u001b[0;32m   2316\u001b[0m \u001b[39mif\u001b[39;00m bbox_inches:\n\u001b[0;32m   2317\u001b[0m     \u001b[39mif\u001b[39;00m bbox_inches \u001b[39m==\u001b[39m \u001b[39m\"\u001b[39m\u001b[39mtight\u001b[39m\u001b[39m\"\u001b[39m:\n",
            "File \u001b[1;32mc:\\Users\\Andrew\\AppData\\Local\\Programs\\Python\\Python38\\lib\\site-packages\\matplotlib\\artist.py:74\u001b[0m, in \u001b[0;36m_finalize_rasterization.<locals>.draw_wrapper\u001b[1;34m(artist, renderer, *args, **kwargs)\u001b[0m\n\u001b[0;32m     72\u001b[0m \u001b[39m@wraps\u001b[39m(draw)\n\u001b[0;32m     73\u001b[0m \u001b[39mdef\u001b[39;00m \u001b[39mdraw_wrapper\u001b[39m(artist, renderer, \u001b[39m*\u001b[39margs, \u001b[39m*\u001b[39m\u001b[39m*\u001b[39mkwargs):\n\u001b[1;32m---> 74\u001b[0m     result \u001b[39m=\u001b[39m draw(artist, renderer, \u001b[39m*\u001b[39;49margs, \u001b[39m*\u001b[39;49m\u001b[39m*\u001b[39;49mkwargs)\n\u001b[0;32m     75\u001b[0m     \u001b[39mif\u001b[39;00m renderer\u001b[39m.\u001b[39m_rasterizing:\n\u001b[0;32m     76\u001b[0m         renderer\u001b[39m.\u001b[39mstop_rasterizing()\n",
            "File \u001b[1;32mc:\\Users\\Andrew\\AppData\\Local\\Programs\\Python\\Python38\\lib\\site-packages\\matplotlib\\artist.py:51\u001b[0m, in \u001b[0;36mallow_rasterization.<locals>.draw_wrapper\u001b[1;34m(artist, renderer)\u001b[0m\n\u001b[0;32m     48\u001b[0m     \u001b[39mif\u001b[39;00m artist\u001b[39m.\u001b[39mget_agg_filter() \u001b[39mis\u001b[39;00m \u001b[39mnot\u001b[39;00m \u001b[39mNone\u001b[39;00m:\n\u001b[0;32m     49\u001b[0m         renderer\u001b[39m.\u001b[39mstart_filter()\n\u001b[1;32m---> 51\u001b[0m     \u001b[39mreturn\u001b[39;00m draw(artist, renderer)\n\u001b[0;32m     52\u001b[0m \u001b[39mfinally\u001b[39;00m:\n\u001b[0;32m     53\u001b[0m     \u001b[39mif\u001b[39;00m artist\u001b[39m.\u001b[39mget_agg_filter() \u001b[39mis\u001b[39;00m \u001b[39mnot\u001b[39;00m \u001b[39mNone\u001b[39;00m:\n",
            "File \u001b[1;32mc:\\Users\\Andrew\\AppData\\Local\\Programs\\Python\\Python38\\lib\\site-packages\\matplotlib\\figure.py:3082\u001b[0m, in \u001b[0;36mFigure.draw\u001b[1;34m(self, renderer)\u001b[0m\n\u001b[0;32m   3079\u001b[0m         \u001b[39m# ValueError can occur when resizing a window.\u001b[39;00m\n\u001b[0;32m   3081\u001b[0m \u001b[39mself\u001b[39m\u001b[39m.\u001b[39mpatch\u001b[39m.\u001b[39mdraw(renderer)\n\u001b[1;32m-> 3082\u001b[0m mimage\u001b[39m.\u001b[39;49m_draw_list_compositing_images(\n\u001b[0;32m   3083\u001b[0m     renderer, \u001b[39mself\u001b[39;49m, artists, \u001b[39mself\u001b[39;49m\u001b[39m.\u001b[39;49msuppressComposite)\n\u001b[0;32m   3085\u001b[0m \u001b[39mfor\u001b[39;00m sfig \u001b[39min\u001b[39;00m \u001b[39mself\u001b[39m\u001b[39m.\u001b[39msubfigs:\n\u001b[0;32m   3086\u001b[0m     sfig\u001b[39m.\u001b[39mdraw(renderer)\n",
            "File \u001b[1;32mc:\\Users\\Andrew\\AppData\\Local\\Programs\\Python\\Python38\\lib\\site-packages\\matplotlib\\image.py:131\u001b[0m, in \u001b[0;36m_draw_list_compositing_images\u001b[1;34m(renderer, parent, artists, suppress_composite)\u001b[0m\n\u001b[0;32m    129\u001b[0m \u001b[39mif\u001b[39;00m not_composite \u001b[39mor\u001b[39;00m \u001b[39mnot\u001b[39;00m has_images:\n\u001b[0;32m    130\u001b[0m     \u001b[39mfor\u001b[39;00m a \u001b[39min\u001b[39;00m artists:\n\u001b[1;32m--> 131\u001b[0m         a\u001b[39m.\u001b[39;49mdraw(renderer)\n\u001b[0;32m    132\u001b[0m \u001b[39melse\u001b[39;00m:\n\u001b[0;32m    133\u001b[0m     \u001b[39m# Composite any adjacent images together\u001b[39;00m\n\u001b[0;32m    134\u001b[0m     image_group \u001b[39m=\u001b[39m []\n",
            "File \u001b[1;32mc:\\Users\\Andrew\\AppData\\Local\\Programs\\Python\\Python38\\lib\\site-packages\\matplotlib\\artist.py:51\u001b[0m, in \u001b[0;36mallow_rasterization.<locals>.draw_wrapper\u001b[1;34m(artist, renderer)\u001b[0m\n\u001b[0;32m     48\u001b[0m     \u001b[39mif\u001b[39;00m artist\u001b[39m.\u001b[39mget_agg_filter() \u001b[39mis\u001b[39;00m \u001b[39mnot\u001b[39;00m \u001b[39mNone\u001b[39;00m:\n\u001b[0;32m     49\u001b[0m         renderer\u001b[39m.\u001b[39mstart_filter()\n\u001b[1;32m---> 51\u001b[0m     \u001b[39mreturn\u001b[39;00m draw(artist, renderer)\n\u001b[0;32m     52\u001b[0m \u001b[39mfinally\u001b[39;00m:\n\u001b[0;32m     53\u001b[0m     \u001b[39mif\u001b[39;00m artist\u001b[39m.\u001b[39mget_agg_filter() \u001b[39mis\u001b[39;00m \u001b[39mnot\u001b[39;00m \u001b[39mNone\u001b[39;00m:\n",
            "File \u001b[1;32mc:\\Users\\Andrew\\AppData\\Local\\Programs\\Python\\Python38\\lib\\site-packages\\matplotlib\\axes\\_base.py:3100\u001b[0m, in \u001b[0;36m_AxesBase.draw\u001b[1;34m(self, renderer)\u001b[0m\n\u001b[0;32m   3097\u001b[0m         a\u001b[39m.\u001b[39mdraw(renderer)\n\u001b[0;32m   3098\u001b[0m     renderer\u001b[39m.\u001b[39mstop_rasterizing()\n\u001b[1;32m-> 3100\u001b[0m mimage\u001b[39m.\u001b[39;49m_draw_list_compositing_images(\n\u001b[0;32m   3101\u001b[0m     renderer, \u001b[39mself\u001b[39;49m, artists, \u001b[39mself\u001b[39;49m\u001b[39m.\u001b[39;49mfigure\u001b[39m.\u001b[39;49msuppressComposite)\n\u001b[0;32m   3103\u001b[0m renderer\u001b[39m.\u001b[39mclose_group(\u001b[39m'\u001b[39m\u001b[39maxes\u001b[39m\u001b[39m'\u001b[39m)\n\u001b[0;32m   3104\u001b[0m \u001b[39mself\u001b[39m\u001b[39m.\u001b[39mstale \u001b[39m=\u001b[39m \u001b[39mFalse\u001b[39;00m\n",
            "File \u001b[1;32mc:\\Users\\Andrew\\AppData\\Local\\Programs\\Python\\Python38\\lib\\site-packages\\matplotlib\\image.py:131\u001b[0m, in \u001b[0;36m_draw_list_compositing_images\u001b[1;34m(renderer, parent, artists, suppress_composite)\u001b[0m\n\u001b[0;32m    129\u001b[0m \u001b[39mif\u001b[39;00m not_composite \u001b[39mor\u001b[39;00m \u001b[39mnot\u001b[39;00m has_images:\n\u001b[0;32m    130\u001b[0m     \u001b[39mfor\u001b[39;00m a \u001b[39min\u001b[39;00m artists:\n\u001b[1;32m--> 131\u001b[0m         a\u001b[39m.\u001b[39;49mdraw(renderer)\n\u001b[0;32m    132\u001b[0m \u001b[39melse\u001b[39;00m:\n\u001b[0;32m    133\u001b[0m     \u001b[39m# Composite any adjacent images together\u001b[39;00m\n\u001b[0;32m    134\u001b[0m     image_group \u001b[39m=\u001b[39m []\n",
            "File \u001b[1;32mc:\\Users\\Andrew\\AppData\\Local\\Programs\\Python\\Python38\\lib\\site-packages\\matplotlib\\artist.py:51\u001b[0m, in \u001b[0;36mallow_rasterization.<locals>.draw_wrapper\u001b[1;34m(artist, renderer)\u001b[0m\n\u001b[0;32m     48\u001b[0m     \u001b[39mif\u001b[39;00m artist\u001b[39m.\u001b[39mget_agg_filter() \u001b[39mis\u001b[39;00m \u001b[39mnot\u001b[39;00m \u001b[39mNone\u001b[39;00m:\n\u001b[0;32m     49\u001b[0m         renderer\u001b[39m.\u001b[39mstart_filter()\n\u001b[1;32m---> 51\u001b[0m     \u001b[39mreturn\u001b[39;00m draw(artist, renderer)\n\u001b[0;32m     52\u001b[0m \u001b[39mfinally\u001b[39;00m:\n\u001b[0;32m     53\u001b[0m     \u001b[39mif\u001b[39;00m artist\u001b[39m.\u001b[39mget_agg_filter() \u001b[39mis\u001b[39;00m \u001b[39mnot\u001b[39;00m \u001b[39mNone\u001b[39;00m:\n",
            "File \u001b[1;32mc:\\Users\\Andrew\\AppData\\Local\\Programs\\Python\\Python38\\lib\\site-packages\\matplotlib\\collections.py:2148\u001b[0m, in \u001b[0;36mQuadMesh.draw\u001b[1;34m(self, renderer)\u001b[0m\n\u001b[0;32m   2145\u001b[0m     ys \u001b[39m=\u001b[39m \u001b[39mself\u001b[39m\u001b[39m.\u001b[39mconvert_yunits(offsets[:, \u001b[39m1\u001b[39m])\n\u001b[0;32m   2146\u001b[0m     offsets \u001b[39m=\u001b[39m np\u001b[39m.\u001b[39mcolumn_stack([xs, ys])\n\u001b[1;32m-> 2148\u001b[0m \u001b[39mself\u001b[39;49m\u001b[39m.\u001b[39;49mupdate_scalarmappable()\n\u001b[0;32m   2150\u001b[0m \u001b[39mif\u001b[39;00m \u001b[39mnot\u001b[39;00m transform\u001b[39m.\u001b[39mis_affine:\n\u001b[0;32m   2151\u001b[0m     coordinates \u001b[39m=\u001b[39m \u001b[39mself\u001b[39m\u001b[39m.\u001b[39m_coordinates\u001b[39m.\u001b[39mreshape((\u001b[39m-\u001b[39m\u001b[39m1\u001b[39m, \u001b[39m2\u001b[39m))\n",
            "File \u001b[1;32mc:\\Users\\Andrew\\AppData\\Local\\Programs\\Python\\Python38\\lib\\site-packages\\matplotlib\\collections.py:891\u001b[0m, in \u001b[0;36mCollection.update_scalarmappable\u001b[1;34m(self)\u001b[0m\n\u001b[0;32m    889\u001b[0m         \u001b[39m# pcolormesh, scatter, maybe others flatten their _A\u001b[39;00m\n\u001b[0;32m    890\u001b[0m         \u001b[39mself\u001b[39m\u001b[39m.\u001b[39m_alpha \u001b[39m=\u001b[39m \u001b[39mself\u001b[39m\u001b[39m.\u001b[39m_alpha\u001b[39m.\u001b[39mreshape(\u001b[39mself\u001b[39m\u001b[39m.\u001b[39m_A\u001b[39m.\u001b[39mshape)\n\u001b[1;32m--> 891\u001b[0m     \u001b[39mself\u001b[39m\u001b[39m.\u001b[39m_mapped_colors \u001b[39m=\u001b[39m \u001b[39mself\u001b[39;49m\u001b[39m.\u001b[39;49mto_rgba(\u001b[39mself\u001b[39;49m\u001b[39m.\u001b[39;49m_A, \u001b[39mself\u001b[39;49m\u001b[39m.\u001b[39;49m_alpha)\n\u001b[0;32m    893\u001b[0m \u001b[39mif\u001b[39;00m \u001b[39mself\u001b[39m\u001b[39m.\u001b[39m_face_is_mapped:\n\u001b[0;32m    894\u001b[0m     \u001b[39mself\u001b[39m\u001b[39m.\u001b[39m_facecolors \u001b[39m=\u001b[39m \u001b[39mself\u001b[39m\u001b[39m.\u001b[39m_mapped_colors\n",
            "File \u001b[1;32mc:\\Users\\Andrew\\AppData\\Local\\Programs\\Python\\Python38\\lib\\site-packages\\matplotlib\\cm.py:512\u001b[0m, in \u001b[0;36mScalarMappable.to_rgba\u001b[1;34m(self, x, alpha, bytes, norm)\u001b[0m\n\u001b[0;32m    510\u001b[0m \u001b[39mif\u001b[39;00m norm:\n\u001b[0;32m    511\u001b[0m     x \u001b[39m=\u001b[39m \u001b[39mself\u001b[39m\u001b[39m.\u001b[39mnorm(x)\n\u001b[1;32m--> 512\u001b[0m rgba \u001b[39m=\u001b[39m \u001b[39mself\u001b[39;49m\u001b[39m.\u001b[39;49mcmap(x, alpha\u001b[39m=\u001b[39;49malpha, \u001b[39mbytes\u001b[39;49m\u001b[39m=\u001b[39;49m\u001b[39mbytes\u001b[39;49m)\n\u001b[0;32m    513\u001b[0m \u001b[39mreturn\u001b[39;00m rgba\n",
            "File \u001b[1;32mc:\\Users\\Andrew\\AppData\\Local\\Programs\\Python\\Python38\\lib\\site-packages\\matplotlib\\colors.py:738\u001b[0m, in \u001b[0;36mColormap.__call__\u001b[1;34m(self, X, alpha, bytes)\u001b[0m\n\u001b[0;32m    735\u001b[0m \u001b[39mif\u001b[39;00m \u001b[39mbytes\u001b[39m:\n\u001b[0;32m    736\u001b[0m     lut \u001b[39m=\u001b[39m (lut \u001b[39m*\u001b[39m \u001b[39m255\u001b[39m)\u001b[39m.\u001b[39mastype(np\u001b[39m.\u001b[39muint8)\n\u001b[1;32m--> 738\u001b[0m rgba \u001b[39m=\u001b[39m lut\u001b[39m.\u001b[39;49mtake(xa, axis\u001b[39m=\u001b[39;49m\u001b[39m0\u001b[39;49m, mode\u001b[39m=\u001b[39;49m\u001b[39m'\u001b[39;49m\u001b[39mclip\u001b[39;49m\u001b[39m'\u001b[39;49m)\n\u001b[0;32m    740\u001b[0m \u001b[39mif\u001b[39;00m alpha \u001b[39mis\u001b[39;00m \u001b[39mnot\u001b[39;00m \u001b[39mNone\u001b[39;00m:\n\u001b[0;32m    741\u001b[0m     alpha \u001b[39m=\u001b[39m np\u001b[39m.\u001b[39mclip(alpha, \u001b[39m0\u001b[39m, \u001b[39m1\u001b[39m)\n",
            "\u001b[1;31mKeyboardInterrupt\u001b[0m: "
          ]
        }
      ],
      "source": [
        "sim = curbd.threeRegionSim(number_units=100,\n",
        "                           ga=1.8,\n",
        "                           gb=1.5,\n",
        "                           gc=1.5,\n",
        "                           tau=0.1,\n",
        "                           fracInterReg=0.05,\n",
        "                           ampInterReg=0.02,\n",
        "                           fracExternal=0.5,\n",
        "                           ampInB=1,\n",
        "                           ampInC=-1,\n",
        "                           dtData=0.01,\n",
        "                           T=10,\n",
        "                           leadTime=2,\n",
        "                           bumpStd=0.2,\n",
        "                           )"
      ]
    },
    {
      "cell_type": "code",
      "execution_count": null,
      "metadata": {},
      "outputs": [],
      "source": [
        "with open(\"simulation.pkl\", \"wb\") as f:\n",
        "    pickle.dump(sim, f)"
      ]
    },
    {
      "cell_type": "code",
      "execution_count": 7,
      "metadata": {},
      "outputs": [],
      "source": [
        "with open(\"simulation.pkl\", \"rb\") as f:\n",
        "    sim = pickle.load(f)"
      ]
    },
    {
      "cell_type": "code",
      "execution_count": 8,
      "metadata": {
        "id": "_baTx7xV995S"
      },
      "outputs": [],
      "source": [
        "#three regions with each region having 100 units and 1201 time series data\n",
        "activity = np.concatenate((sim['Ra'], sim['Rb'], sim['Rc']), 0) #300 x 1201\n",
        "activity = activity[:,:300]\n",
        "\n",
        "Na = sim['params']['Na']\n",
        "Nb = sim['params']['Nb']\n",
        "Nc = sim['params']['Nc']\n",
        "\n",
        "regions = []\n",
        "regions.append(['Region A', np.arange(0, Na)])\n",
        "regions.append(['Region B', np.arange(Na, Na + Nb)])\n",
        "regions.append(['Region C', np.arange(Na + Nb, Na + Nb + Nc)])\n",
        "regions = np.array(regions, dtype=object)"
      ]
    },
    {
      "cell_type": "markdown",
      "metadata": {
        "id": "qBCmBCJ1-fEj"
      },
      "source": [
        "# Initializing the parameters "
      ]
    },
    {
      "cell_type": "code",
      "execution_count": 9,
      "metadata": {
        "id": "77y1YH4g-PV2"
      },
      "outputs": [],
      "source": [
        "dtData=sim['params']['dtData'] # time step of training data\n",
        "# dtData=None\n",
        "dtFactor=5 # number of interpolation steps for RNN \n",
        "regions=regions # number of regions and names of the regions\n",
        "# tauRNN=2*sim['params']['tau']/2 # decay constant of RNN \n",
        "tauRNN=50 # decay constant of RNN \n",
        "\n",
        "g=1.5 # instability constant \n",
        "tauWN=0.1 #decay constant on filtered white noise inputs\n",
        "ampInWN=0.01 #input amplitude of filtered white noise \n",
        "resetPoints=None\n",
        "plotStatus=True\n",
        "regions=None\n"
      ]
    },
    {
      "cell_type": "code",
      "execution_count": 10,
      "metadata": {},
      "outputs": [
        {
          "data": {
            "text/plain": [
              "0.01"
            ]
          },
          "execution_count": 10,
          "metadata": {},
          "output_type": "execute_result"
        }
      ],
      "source": [
        "dtData"
      ]
    },
    {
      "cell_type": "code",
      "execution_count": 11,
      "metadata": {
        "id": "xOz5es3m-VwP"
      },
      "outputs": [],
      "source": [
        "if dtData is None: #0.01\n",
        "    print('dtData not specified. Defaulting to 1.');\n",
        "    dtData = 1;\n",
        "if resetPoints is None:\n",
        "    resetPoints = [0, ]\n",
        "if regions is None:\n",
        "    regions = {}"
      ]
    },
    {
      "cell_type": "code",
      "execution_count": 12,
      "metadata": {
        "id": "hOL51DQm-lgD"
      },
      "outputs": [],
      "source": [
        "number_units = activity.shape[0] #300 -- the total number of units \n",
        "number_learn = activity.shape[0] #300\n",
        "dtRNN = dtData / float(dtFactor) # 0.01/5=0.002"
      ]
    },
    {
      "cell_type": "code",
      "execution_count": 13,
      "metadata": {},
      "outputs": [
        {
          "data": {
            "text/plain": [
              "5"
            ]
          },
          "execution_count": 13,
          "metadata": {},
          "output_type": "execute_result"
        }
      ],
      "source": [
        "dtFactor"
      ]
    },
    {
      "cell_type": "code",
      "execution_count": 14,
      "metadata": {
        "id": "TlpOy7kX_e9g"
      },
      "outputs": [],
      "source": [
        "learnList = npr.permutation(number_units) #randomize the units\n",
        "iTarget = learnList[:number_learn]\n",
        "iNonTarget = learnList[number_learn:] # []\n",
        "\n",
        "tData = dtData*np.arange(activity.shape[1]) #   [0, 0.01, 0.02 ....,12.01] #1201 input time steps \n",
        "tRNN = np.arange(0, tData[-1] + dtRNN, dtRNN) # [0, 0.002, 0.004 ...., 12.01] #6000 rnn time steps"
      ]
    },
    {
      "cell_type": "markdown",
      "metadata": {
        "id": "8B_UhfrJTmoZ"
      },
      "source": [
        "# External Input to RNN"
      ]
    },
    {
      "cell_type": "code",
      "execution_count": 15,
      "metadata": {
        "id": "LsQjmRizAB-V"
      },
      "outputs": [],
      "source": [
        "ampWN = math.sqrt(tauWN/dtRNN) # (0.1/0.002)\n",
        "iWN = ampWN * npr.randn(number_units, len(tRNN)) #gaussian noise ? #300x6001\n",
        "inputWN = np.ones((number_units, len(tRNN))) #300x6001\n",
        "# print(\"inputWN : \",inputWN)\n",
        "for tt in range(1, len(tRNN)):\n",
        "    inputWN[:, tt] = iWN[:, tt] + (inputWN[:, tt - 1] - iWN[:, tt])*np.exp(- (dtRNN / tauWN)) # solve the above differential equation \n",
        "inputWN = ampInWN * inputWN # external input h(t)\n"
      ]
    },
    {
      "cell_type": "markdown",
      "metadata": {
        "id": "shOWfQcVSmeR"
      },
      "source": [
        "# Set up target training data"
      ]
    },
    {
      "cell_type": "code",
      "execution_count": 16,
      "metadata": {
        "colab": {
          "base_uri": "https://localhost:8080/"
        },
        "id": "mlEoL7WsRabN",
        "outputId": "82fc253e-0c7b-48f8-c7b0-d8606301f2ec"
      },
      "outputs": [
        {
          "name": "stdout",
          "output_type": "stream",
          "text": [
            "(300, 300)\n"
          ]
        }
      ],
      "source": [
        "Adata = activity.copy()\n",
        "Adata = Adata/Adata.max()\n",
        "Adata = np.minimum(Adata, 0.999) # elementwise minimum \n",
        "Adata = np.maximum(Adata, -0.999) # elementwise max\n",
        "print (Adata.shape)"
      ]
    },
    {
      "cell_type": "markdown",
      "metadata": {
        "id": "Y71GXazFhGQJ"
      },
      "source": [
        "# Model Definition"
      ]
    },
    {
      "cell_type": "code",
      "execution_count": 17,
      "metadata": {
        "id": "nqsHjhoVTgOx"
      },
      "outputs": [],
      "source": [
        "import sys \n",
        "\n",
        "class CTRNN(nn.Module):\n",
        "    \"\"\"Continuous-time RNN.\"\"\"\n",
        "    def __init__(self,\n",
        "                 g,\n",
        "                 tauRNN,\n",
        "                 dtRNN,\n",
        "                 input_units,\n",
        "                 output_units,\n",
        "                 dt=None,\n",
        "                 **kwargs):\n",
        "      \n",
        "        super(CTRNN,self).__init__()\n",
        "\n",
        "        self.tauRNN = tauRNN\n",
        "        self.dtRNN=dtRNN\n",
        "        self.g=g\n",
        "        self.input_units=input_units\n",
        "        self.output_units=output_units\n",
        "        self.J = nn.Parameter(self.g * torch.Tensor(npr.randn(input_units, output_units) / math.sqrt(output_units)))\n",
        "\n",
        "    def forward(self, hidden, noise=None):\n",
        "        if(noise is not None):\n",
        "           noise = torch.zeros_like(noise)\n",
        "        \n",
        "        \"\"\"Propogate input through the network.\"\"\"\n",
        "        \n",
        "        # When calculating fixed points: We want to find _hidden_ vectors such that -hidden + JR equals the 0 vector.\n",
        "        activation = torch.tanh(torch.Tensor(hidden))\n",
        "        JR = torch.matmul(self.J, activation).reshape((self.input_units,1))\n",
        "        \n",
        "\n",
        "        new_hidden = hidden + self.dtRNN*(-hidden + JR)/self.tauRNN\n",
        "        return activation, new_hidden\n",
        "\n"
      ]
    },
    {
      "cell_type": "code",
      "execution_count": 45,
      "metadata": {},
      "outputs": [],
      "source": [
        "\n",
        "rnn_model = CTRNN(g=g,\n",
        "                  tauRNN=tauRNN,\n",
        "                  dtRNN=dtRNN,\n",
        "                  input_units=number_units,\n",
        "                  output_units=number_units)\n",
        "\n",
        "rnn_model.to(device)\n",
        "rnn_model.load_state_dict(torch.load(\"REAL_WEIGHTS_NONOISE.pt\"))\n",
        "weights_initial = rnn_model.J.detach().cpu().numpy().copy()\n"
      ]
    },
    {
      "cell_type": "code",
      "execution_count": 44,
      "metadata": {},
      "outputs": [],
      "source": [
        "def run_trajectory(model, starting_point, iterations=100):\n",
        "    trajectory = []\n",
        "    trajectory.append(starting_point)\n",
        "    for iteration in range(iterations):\n",
        "        activation, new_hidden = model(starting_point)\n",
        "        trajectory.append(new_hidden)\n",
        "        starting_point = new_hidden\n",
        "    \n",
        "    return trajectory"
      ]
    },
    {
      "cell_type": "code",
      "execution_count": 57,
      "metadata": {},
      "outputs": [],
      "source": [
        "fixed_points = torch.load(\"REAL_FIXED_POINTS.pt\")\n",
        "random_point = torch.rand_like(fixed_points[0])"
      ]
    },
    {
      "cell_type": "code",
      "execution_count": 71,
      "metadata": {},
      "outputs": [
        {
          "name": "stdout",
          "output_type": "stream",
          "text": [
            "[0.99244289 0.00755711]\n",
            "[6.30061232 0.54980396]\n"
          ]
        }
      ],
      "source": [
        "import numpy as np\n",
        "from sklearn.decomposition import PCA\n",
        "X = np.array([[-1, -1], [-2, -1], [-3, -2], [1, 1], [2, 1], [3, 2]])\n",
        "pca = PCA(n_components=2)\n",
        "pca.fit(X)\n",
        "PCA(n_components=2)\n",
        "print(pca.explained_variance_ratio_)\n",
        "print(pca.singular_values_)"
      ]
    },
    {
      "cell_type": "code",
      "execution_count": 87,
      "metadata": {},
      "outputs": [],
      "source": [
        "# Run a trajectory starting at the 9th fixed point for 100 iterations\n",
        "trajectory = run_trajectory(rnn_model, fixed_points[9], iterations=100)\n",
        "\n",
        "# Convert trajectory to output\n",
        "trajectory_np = torch.cat(trajectory, dim=1).detach().numpy().T"
      ]
    },
    {
      "cell_type": "code",
      "execution_count": 88,
      "metadata": {},
      "outputs": [
        {
          "data": {
            "text/plain": [
              "(101, 2)"
            ]
          },
          "execution_count": 88,
          "metadata": {},
          "output_type": "execute_result"
        }
      ],
      "source": [
        "fitted = pca.fit_transform(trajectory_np)\n",
        "fitted.shape"
      ]
    },
    {
      "cell_type": "code",
      "execution_count": 92,
      "metadata": {},
      "outputs": [],
      "source": [
        "xx = fitted[:,0]\n",
        "xy = fitted[:,1]"
      ]
    },
    {
      "cell_type": "code",
      "execution_count": 95,
      "metadata": {},
      "outputs": [
        {
          "data": {
            "image/png": "[encoded data removed]",
            "text/plain": [
              "<Figure size 640x480 with 1 Axes>"
            ]
          },
          "metadata": {},
          "output_type": "display_data"
        }
      ],
      "source": [
        "\n",
        "plt.plot(xx,xy) \n",
        "#plt.gca().set_aspect(\"equal\") \n",
        "plt.show()\n"
      ]
    },
    {
      "cell_type": "markdown",
      "metadata": {
        "id": "gNYTk3LERhrA"
      },
      "source": [
        "# Training"
      ]
    },
    {
      "cell_type": "code",
      "execution_count": 38,
      "metadata": {
        "colab": {
          "base_uri": "https://localhost:8080/"
        },
        "id": "ahldAtgCRlYs",
        "outputId": "e5d1a7a4-57fe-4c96-aeff-49cd01328367"
      },
      "outputs": [
        {
          "name": "stdout",
          "output_type": "stream",
          "text": [
            "Epoch is 0, loss is 7.253339767456055\n",
            "Epoch is 1, loss is 7.24993896484375\n",
            "Epoch is 2, loss is 7.246862411499023\n",
            "Epoch is 3, loss is 7.244221210479736\n",
            "Epoch is 4, loss is 7.241021156311035\n",
            "Epoch is 5, loss is 7.238592147827148\n",
            "Epoch is 6, loss is 7.235650062561035\n",
            "Epoch is 7, loss is 7.232973575592041\n",
            "Epoch is 8, loss is 7.2303032875061035\n",
            "Epoch is 9, loss is 7.227406024932861\n",
            "Epoch is 10, loss is 7.224775314331055\n",
            "Epoch is 11, loss is 7.221986293792725\n",
            "Epoch is 12, loss is 7.219144821166992\n",
            "Epoch is 13, loss is 7.21645450592041\n",
            "Epoch is 14, loss is 7.213624000549316\n",
            "Epoch is 15, loss is 7.210800647735596\n",
            "Epoch is 16, loss is 7.208060264587402\n",
            "Epoch is 17, loss is 7.205212116241455\n",
            "Epoch is 18, loss is 7.202386379241943\n",
            "Epoch is 19, loss is 7.199609279632568\n",
            "Epoch is 20, loss is 7.196752548217773\n",
            "Epoch is 21, loss is 7.193920135498047\n",
            "Epoch is 22, loss is 7.191114902496338\n",
            "Epoch is 23, loss is 7.1882476806640625\n",
            "Epoch is 24, loss is 7.185405731201172\n",
            "Epoch is 25, loss is 7.18257474899292\n",
            "Epoch is 26, loss is 7.1797027587890625\n"
          ]
        },
        {
          "ename": "KeyboardInterrupt",
          "evalue": "",
          "output_type": "error",
          "traceback": [
            "\u001b[1;31m---------------------------------------------------------------------------\u001b[0m",
            "\u001b[1;31mKeyboardInterrupt\u001b[0m                         Traceback (most recent call last)",
            "Cell \u001b[1;32mIn[38], line 32\u001b[0m\n\u001b[0;32m     30\u001b[0m \u001b[39mif\u001b[39;00m (epoch)\u001b[39m%\u001b[39m\u001b[39m1\u001b[39m \u001b[39m==\u001b[39m\u001b[39m0\u001b[39m :\n\u001b[0;32m     31\u001b[0m   \u001b[39mprint\u001b[39m (\u001b[39mf\u001b[39m\u001b[39m\"\u001b[39m\u001b[39mEpoch is \u001b[39m\u001b[39m{\u001b[39;00mepoch\u001b[39m}\u001b[39;00m\u001b[39m, loss is \u001b[39m\u001b[39m{\u001b[39;00mloss\u001b[39m}\u001b[39;00m\u001b[39m\"\u001b[39m)\n\u001b[1;32m---> 32\u001b[0m loss\u001b[39m.\u001b[39;49mbackward()\n\u001b[0;32m     33\u001b[0m optimizer\u001b[39m.\u001b[39mstep()    \u001b[39m# Does the update\u001b[39;00m\n\u001b[0;32m     34\u001b[0m loss_list\u001b[39m.\u001b[39mappend(loss)\n",
            "File \u001b[1;32mc:\\Users\\Andrew\\AppData\\Local\\Programs\\Python\\Python38\\lib\\site-packages\\torch\\_tensor.py:488\u001b[0m, in \u001b[0;36mTensor.backward\u001b[1;34m(self, gradient, retain_graph, create_graph, inputs)\u001b[0m\n\u001b[0;32m    478\u001b[0m \u001b[39mif\u001b[39;00m has_torch_function_unary(\u001b[39mself\u001b[39m):\n\u001b[0;32m    479\u001b[0m     \u001b[39mreturn\u001b[39;00m handle_torch_function(\n\u001b[0;32m    480\u001b[0m         Tensor\u001b[39m.\u001b[39mbackward,\n\u001b[0;32m    481\u001b[0m         (\u001b[39mself\u001b[39m,),\n\u001b[1;32m   (...)\u001b[0m\n\u001b[0;32m    486\u001b[0m         inputs\u001b[39m=\u001b[39minputs,\n\u001b[0;32m    487\u001b[0m     )\n\u001b[1;32m--> 488\u001b[0m torch\u001b[39m.\u001b[39;49mautograd\u001b[39m.\u001b[39;49mbackward(\n\u001b[0;32m    489\u001b[0m     \u001b[39mself\u001b[39;49m, gradient, retain_graph, create_graph, inputs\u001b[39m=\u001b[39;49minputs\n\u001b[0;32m    490\u001b[0m )\n",
            "File \u001b[1;32mc:\\Users\\Andrew\\AppData\\Local\\Programs\\Python\\Python38\\lib\\site-packages\\torch\\autograd\\__init__.py:197\u001b[0m, in \u001b[0;36mbackward\u001b[1;34m(tensors, grad_tensors, retain_graph, create_graph, grad_variables, inputs)\u001b[0m\n\u001b[0;32m    192\u001b[0m     retain_graph \u001b[39m=\u001b[39m create_graph\n\u001b[0;32m    194\u001b[0m \u001b[39m# The reason we repeat same the comment below is that\u001b[39;00m\n\u001b[0;32m    195\u001b[0m \u001b[39m# some Python versions print out the first line of a multi-line function\u001b[39;00m\n\u001b[0;32m    196\u001b[0m \u001b[39m# calls in the traceback and some print out the last line\u001b[39;00m\n\u001b[1;32m--> 197\u001b[0m Variable\u001b[39m.\u001b[39;49m_execution_engine\u001b[39m.\u001b[39;49mrun_backward(  \u001b[39m# Calls into the C++ engine to run the backward pass\u001b[39;49;00m\n\u001b[0;32m    198\u001b[0m     tensors, grad_tensors_, retain_graph, create_graph, inputs,\n\u001b[0;32m    199\u001b[0m     allow_unreachable\u001b[39m=\u001b[39;49m\u001b[39mTrue\u001b[39;49;00m, accumulate_grad\u001b[39m=\u001b[39;49m\u001b[39mTrue\u001b[39;49;00m)\n",
            "\u001b[1;31mKeyboardInterrupt\u001b[0m: "
          ]
        }
      ],
      "source": [
        "optimizer = optim.Adam(rnn_model.parameters(), lr=1e-3)\n",
        "criterion = nn.MSELoss()\n",
        "loss_list = []\n",
        "# RNN = np.zeros((number_units, len(tRNN)))\n",
        "\n",
        "for epoch in range(1000):\n",
        "    tLearn = 0 \n",
        "    iLearn = 0 \n",
        "    loss = 0\n",
        "\n",
        "    hidden = torch.tanh(torch.Tensor(Adata[:, 0, np.newaxis])).to(device)\n",
        "    # RNN[:, 0, np.newaxis] = hidden.detach().cpu().numpy()\n",
        "    # output = hidden\n",
        "    for i in range(1,len(tRNN)):\n",
        "        tLearn += dtRNN\n",
        "        \n",
        "        # RNN[:, i, np.newaxis] = output.detach().cpu().numpy()\n",
        "\n",
        "        output, hidden = rnn_model(hidden,\n",
        "                                  torch.Tensor(inputWN[:, i, np.newaxis]).to(device))\n",
        "        \n",
        "\n",
        "        if tLearn >= dtData:\n",
        "          tLearn=0\n",
        "          running_loss = criterion(output,\n",
        "                                   torch.Tensor(Adata[:, iLearn ,np.newaxis]).to(device))\n",
        "          iLearn = iLearn + 1 \n",
        "          loss+=running_loss\n",
        "    optimizer.zero_grad()   # zero the gradient buffers\n",
        "    if (epoch)%1 ==0 :\n",
        "      print (f\"Epoch is {epoch}, loss is {loss}\")\n",
        "    loss.backward()\n",
        "    optimizer.step()    # Does the update\n",
        "    loss_list.append(loss)"
      ]
    },
    {
      "cell_type": "code",
      "execution_count": 40,
      "metadata": {},
      "outputs": [],
      "source": [
        "torch.save(rnn_model.state_dict(), \"REAL_WEIGHTS_NONOISE.pt\")"
      ]
    },
    {
      "cell_type": "code",
      "execution_count": 42,
      "metadata": {},
      "outputs": [],
      "source": [
        "torch.save(sim, \"REAL_SIM.pt\")"
      ]
    },
    {
      "cell_type": "markdown",
      "metadata": {
        "id": "tIqyaahOh_bC"
      },
      "source": [
        "# Save Weights"
      ]
    },
    {
      "cell_type": "code",
      "execution_count": 39,
      "metadata": {
        "id": "8memJhaRh-_g"
      },
      "outputs": [],
      "source": [
        "state = {\n",
        "        'epoch': epoch,\n",
        "        'state_dict': rnn_model.state_dict(),\n",
        "        'optimizer': optimizer.state_dict(),\n",
        "}\n",
        "\n",
        "savepath='checkpoint.t7'\n",
        "\n",
        "torch.save(state,savepath)\n"
      ]
    },
    {
      "cell_type": "code",
      "execution_count": null,
      "metadata": {
        "id": "4qEia8DxyiE0"
      },
      "outputs": [],
      "source": [
        "del rnn_model\n",
        "\n",
        "rnn_model = CTRNN(g=g,\n",
        "                  tauRNN=tauWN,\n",
        "                  dtRNN=dtRNN,\n",
        "                  input_units=number_units,\n",
        "                  output_units=number_units).to(device)\n"
      ]
    },
    {
      "cell_type": "markdown",
      "metadata": {
        "id": "Gx_QdijguTFW"
      },
      "source": []
    },
    {
      "cell_type": "markdown",
      "metadata": {
        "id": "wlB_Fe8Ve5wO"
      },
      "source": [
        "# Validation"
      ]
    },
    {
      "cell_type": "code",
      "execution_count": 35,
      "metadata": {
        "colab": {
          "base_uri": "https://localhost:8080/"
        },
        "id": "mYWaCKRbRuJE",
        "outputId": "9a96d59f-bbf1-4e88-a139-ee72a69ec795"
      },
      "outputs": [
        {
          "name": "stderr",
          "output_type": "stream",
          "text": [
            "C:\\Users\\Andrew\\AppData\\Local\\Temp\\ipykernel_22148\\2054434804.py:25: UserWarning: To copy construct from a tensor, it is recommended to use sourceTensor.clone().detach() or sourceTensor.clone().detach().requires_grad_(True), rather than torch.tensor(sourceTensor).\n",
            "  predicted.append(torch.tensor(output).detach().cpu().numpy())\n"
          ]
        }
      ],
      "source": [
        "#checkpoint = torch.load(\"CTRNN_weights1.pt\")\n",
        "#rnn_model.load_state_dict(checkpoint)\n",
        "#optimizer.load_state_dict(checkpoint['optimizer'])\n",
        "#epoch = checkpoint['epoch']\n",
        "\n",
        "\n",
        "def validate(model,tRNN):\n",
        "    \n",
        "    with torch.no_grad():\n",
        "      hidden = torch.tanh(torch.Tensor(Adata[:, 0, np.newaxis])).to(device)\n",
        "      tLearn = 0 \n",
        "      iLearn = 0 \n",
        "      predicted=[]\n",
        "      gt=[]\n",
        "\n",
        "      for i in range(1,len(tRNN)):\n",
        "          tLearn += dtRNN\n",
        "          \n",
        "          output, hidden = rnn_model(hidden,\n",
        "                                     torch.Tensor(inputWN[:, i, np.newaxis]).to(device))\n",
        "          \n",
        "\n",
        "          if tLearn >= dtData:\n",
        "            tLearn=0\n",
        "            predicted.append(torch.tensor(output).detach().cpu().numpy())\n",
        "            gt.append(torch.Tensor(Adata[:, iLearn ,np.newaxis]).to(device).detach().cpu().numpy())\n",
        "            iLearn = iLearn + 1 \n",
        "            \n",
        "                \n",
        "    return predicted, gt\n",
        "\n",
        "preds,actual = validate(rnn_model,tRNN=tRNN)"
      ]
    },
    {
      "cell_type": "markdown",
      "metadata": {
        "id": "Ut1GbIhLfJ6K"
      },
      "source": [
        "# Plot the activity of a neuron "
      ]
    },
    {
      "cell_type": "code",
      "execution_count": 36,
      "metadata": {
        "id": "ANzEhdMofJdK"
      },
      "outputs": [
        {
          "data": {
            "image/png": "[encoded data removed]",
            "text/plain": [
              "<Figure size 640x480 with 1 Axes>"
            ]
          },
          "metadata": {},
          "output_type": "display_data"
        }
      ],
      "source": [
        "neuron_id = 1\n",
        "x = list(range(len(preds)))\n",
        "p=[pred[neuron_id][0] for pred in preds]\n",
        "a=[act[neuron_id][0] for act in actual]\n",
        "\n",
        "\n",
        "plt.plot(p)\n",
        "plt.plot(a)\n",
        "plt.legend([\"preds\", \"actual\"], loc =\"lower right\")\n",
        "plt.show()"
      ]
    },
    {
      "cell_type": "markdown",
      "metadata": {
        "id": "GInGFEQqjXMA"
      },
      "source": [
        "# Plot the average activity of regions"
      ]
    },
    {
      "cell_type": "code",
      "execution_count": 37,
      "metadata": {
        "id": "-Aouvlm3jWLp"
      },
      "outputs": [
        {
          "data": {
            "image/png": "[encoded data removed]",
            "text/plain": [
              "<Figure size 640x480 with 1 Axes>"
            ]
          },
          "metadata": {},
          "output_type": "display_data"
        }
      ],
      "source": [
        "p_area=[pred[:100].mean() for pred in preds]\n",
        "a_area=[act[:100].mean() for act in actual]\n",
        "\n",
        "\n",
        "plt.plot(p_area)\n",
        "plt.plot(a_area)\n",
        "plt.legend([\"preds\", \"actual\"], loc =\"lower right\")\n",
        "plt.show()"
      ]
    },
    {
      "cell_type": "code",
      "execution_count": null,
      "metadata": {
        "id": "EOEMj4CfnJen"
      },
      "outputs": [],
      "source": [
        "# fig, ax =plt.subplots(1,2)\n",
        "\n",
        "# sns.heatmap(weights_initial[0:10,0:10], ax=ax[0])\n",
        "# sns.heatmap(rnn_model.J.detach().cpu().numpy()[0:10,0:10], ax=ax[1])\n",
        "\n",
        "# plt.show()"
      ]
    },
    {
      "cell_type": "code",
      "execution_count": null,
      "metadata": {
        "id": "2FJPgzBF8qhK"
      },
      "outputs": [],
      "source": [
        "# sim={'RNN':,\n",
        "#      J:, \n",
        "#      regions:,\n",
        "#      params:}"
      ]
    },
    {
      "cell_type": "markdown",
      "metadata": {
        "id": "CDFj8hX48dEV"
      },
      "source": [
        "# Compute CURBD"
      ]
    },
    {
      "cell_type": "code",
      "execution_count": null,
      "metadata": {
        "id": "BckXDalK8Z0H"
      },
      "outputs": [],
      "source": [
        "# def computeCURBD(sim):\n",
        "#     \"\"\"\n",
        "#     function [CURBD,CURBDLabels] = computeCURBD(varargin)\n",
        "#     %%%%%%%%%%%%%%%%%%%%%%%%%%%%%%%%%%%%%%%%%%%%%%%%%%%%%%%%%%%%%%%%%%%%%%%%%%%\n",
        "#     %\n",
        "#     % Performs Current-Based Decomposition (CURBD) of multi-region data. Ref:\n",
        "#     %\n",
        "#     % Perich MG et al. Inferring brain-wide interactions using data-constrained\n",
        "#     % recurrent neural network models. bioRxiv. DOI:\n",
        "#     %\n",
        "#     % Two input options:\n",
        "#     %   1) out = computeCURBD(model, params)\n",
        "#     %       Pass in the output struct of trainMultiRegionRNN and it will do the\n",
        "#     %       current decomposition. Note that regions has to be defined.\n",
        "#     %\n",
        "#     %   2) out = computeCURBD(RNN, J, regions, params)\n",
        "#     %       Only needs the RNN activity, region info, and J matrix\n",
        "#     %\n",
        "#     %   Only parameter right now is current_type, to isolate excitatory or\n",
        "#     %   inhibitory currents.\n",
        "#     %\n",
        "#     % OUTPUTS:\n",
        "#     %   CURBD: M x M cell array containing the decomposition for M regions.\n",
        "#     %       Target regions are in rows and source regions are in columns.\n",
        "#     %   CURBDLabels: M x M cell array with string labels for each current\n",
        "#     %\n",
        "#     %\n",
        "#     % Written by Matthew G. Perich. Updated December 2020.\n",
        "#     %\n",
        "#     %%%%%%%%%%%%%%%%%%%%%%%%%%%%%%%%%%%%%%%%%%%%%%%%%%%%%%%%%%%%%%%%%%%%%%%%%%%\n",
        "#     \"\"\"\n",
        "#     current_type = 'all'  # 'excitatory', 'inhibitory', or 'all'\n",
        "#     RNN = sim['RNN']\n",
        "#     J = sim['J'].copy()\n",
        "#     regions = sim['regions']\n",
        "\n",
        "#     if regions is None:\n",
        "#         raise ValueError(\"regions not specified\")\n",
        "\n",
        "#     if current_type == 'excitatory':  # take only positive J weights\n",
        "#         J[J < 0] = 0\n",
        "#     elif current_type == 'inhibitory':  # take only negative J weights\n",
        "#         J[J > 0] = 0\n",
        "#     elif current_type == 'all':\n",
        "#         pass\n",
        "#     else:\n",
        "#         raise ValueError(\"Unknown current type: {}\".format(current_type))\n",
        "\n",
        "#     nRegions = regions.shape[0]\n",
        "\n",
        "#     # loop along all bidirectional pairs of regions\n",
        "#     CURBD = np.empty((nRegions, nRegions), dtype=np.object)\n",
        "#     CURBDLabels = np.empty((nRegions, nRegions), dtype=np.object)\n",
        "\n",
        "#     for idx_trg in range(nRegions):\n",
        "#         in_trg = regions[idx_trg, 1]\n",
        "#         lab_trg = regions[idx_trg, 0]\n",
        "#         for idx_src in range(nRegions):\n",
        "#             in_src = regions[idx_src, 1]\n",
        "#             lab_src = regions[idx_src, 0]\n",
        "#             sub_J = J[in_trg, :][:, in_src]\n",
        "#             CURBD[idx_trg, idx_src] = sub_J.dot(RNN[in_src, :])\n",
        "#             CURBDLabels[idx_trg, idx_src] = \"{} to {}\".format(lab_src,\n",
        "#                                                               lab_trg)\n",
        "#     return (CURBD, CURBDLabels)"
      ]
    },
    {
      "cell_type": "code",
      "execution_count": null,
      "metadata": {
        "id": "3H2ooY__uVVY"
      },
      "outputs": [],
      "source": [
        "\"\"\"class for fixed point analysis\"\"\"\n",
        "\n",
        "import torch\n",
        "import torch.nn.functional as F\n",
        "from torch.autograd import Variable\n",
        "\n",
        "\n",
        "class FixedPoint(object):\n",
        "    def __init__(self, model, device, gamma=0.01, speed_tor=1e-06, max_epochs=200000,\n",
        "                 lr_decay_epoch=10000):\n",
        "        self.model = model\n",
        "        self.device = device\n",
        "        self.gamma = gamma\n",
        "        self.speed_tor = speed_tor\n",
        "        self.max_epochs = max_epochs\n",
        "        self.lr_decay_epoch = lr_decay_epoch\n",
        "\n",
        "        self.model.eval()\n",
        "\n",
        "    def calc_speed(self, hidden_activated, const_signal):\n",
        "        input_signal = const_signal.permute(1, 0, 2)\n",
        "        pre_activates = self.model.w_hh(hidden_activated)\n",
        "        activated = torch.tanh(pre_activates)\n",
        "\n",
        "        speed = torch.norm(activated - hidden_activated)\n",
        "\n",
        "        return speed\n",
        "\n",
        "    def find_fixed_point(self, init_hidden, const_signal, view=False):\n",
        "        new_hidden = init_hidden.clone()\n",
        "        gamma = self.gamma\n",
        "        result_ok = True\n",
        "        i = 0\n",
        "        while True:\n",
        "            hidden_activated = Variable(new_hidden).to(self.device)\n",
        "            hidden_activated.requires_grad = True\n",
        "            speed = self.calc_speed(hidden_activated, const_signal)\n",
        "            if view and i % 1000 == 0:\n",
        "                print(f'epoch: {i}, speed={speed.item()}')\n",
        "            if speed.item() < self.speed_tor:\n",
        "                print(f'epoch: {i}, speed={speed.item()}')\n",
        "                break\n",
        "            speed.backward()\n",
        "            if i % self.lr_decay_epoch == 0 and i > 0:\n",
        "                gamma *= 0.5\n",
        "            if i == self.max_epochs:\n",
        "                print(f'forcibly finished. speed={speed.item()}')\n",
        "                result_ok = False\n",
        "                break\n",
        "            i += 1\n",
        "\n",
        "            new_hidden = hidden_activated - gamma * hidden_activated.grad\n",
        "\n",
        "        fixed_point = new_hidden[0, 0]\n",
        "        return fixed_point, result_ok\n",
        "\n",
        "    def calc_jacobian(self, fixed_point, const_signal_tensor):\n",
        "        fixed_point = torch.unsqueeze(fixed_point, dim=1)\n",
        "        fixed_point = Variable(fixed_point).to(self.device)\n",
        "        fixed_point.requires_grad = True\n",
        "        input_signal = const_signal_tensor.permute(1, 0, 2)\n",
        "        w_hh = self.model.w_hh.weight\n",
        "        w_hh.requires_grad = False\n",
        "        w_hh = w_hh.to(self.device)\n",
        "        pre_activates = torch.unsqueeze(self.model.w_in(input_signal[0])[0], dim=1) + \\\n",
        "                        w_hh @ fixed_point + torch.unsqueeze(self.model.w_hh.bias, dim=1)\n",
        "\n",
        "        if self.model.activation == 'relu':\n",
        "            activated = F.relu(pre_activates)\n",
        "        else:\n",
        "            activated = torch.tanh(pre_activates)\n",
        "\n",
        "        jacobian = torch.zeros(self.model.n_hid, self.model.n_hid)\n",
        "        for i in range(self.model.n_hid):\n",
        "            output = torch.zeros(self.model.n_hid, 1).to(self.device)\n",
        "            output[i] = 1.\n",
        "            jacobian[:, i:i + 1] = torch.autograd.grad(activated, fixed_point, grad_outputs=output, retain_graph=True)[\n",
        "                0]\n",
        "\n",
        "        jacobian = jacobian.numpy().T\n",
        "\n",
        "        return jacobian"
      ]
    },
    {
      "cell_type": "code",
      "execution_count": null,
      "metadata": {
        "colab": {
          "base_uri": "https://localhost:8080/"
        },
        "id": "kcb07ClDvf_S",
        "outputId": "74a0a232-a350-4f3e-d6df-9310bc0d14c6"
      },
      "outputs": [
        {
          "data": {
            "text/plain": [
              "<generator object Module.parameters at 0x7f9007e24270>"
            ]
          },
          "execution_count": 26,
          "metadata": {},
          "output_type": "execute_result"
        }
      ],
      "source": [
        "import matplotlib\n",
        "import numpy as np\n",
        "import torch\n",
        "\n",
        "matplotlib.use('Agg')\n",
        "\n",
        "# import matplotlib.pyplot as plt\n",
        "# from mpl_toolkits.mplot3d import Axes3D\n",
        "\n",
        "# os.makedirs('figures', exist_ok=True)\n",
        "\n",
        "freq_range = 51\n",
        "time_length = 40\n",
        "\n",
        "device = torch.device('cuda' if torch.cuda.is_available() else 'cpu')\n",
        "\n",
        "model = CTRNN(g=g,\n",
        "              tauRNN=tauWN,\n",
        "              dtRNN=dtRNN,\n",
        "              input_units=number_units,\n",
        "              output_units=number_units).to(device)\n",
        "\n",
        "checkpoint = torch.load('checkpoint.t7')\n",
        "model.load_state_dict(checkpoint['state_dict'])\n",
        "optimizer.load_state_dict(checkpoint['optimizer'])\n",
        "epoch = checkpoint['epoch']\n",
        "\n",
        "\n",
        "analyzer = FixedPoint(model=model, device=device, max_epochs=1)\n",
        "\n",
        "# hidden_list_list = np.zeros([30 * time_length, model.n_hid])\n",
        "# fixed_point_list = np.zeros([15, model.n_hid])\n",
        "# i = 0\n",
        "    # while i < 15:\n",
        "    #     freq = np.random.randint(10, freq_range + 1)\n",
        "    #     const_signal = np.repeat(freq / freq_range + 0.25, time_length)\n",
        "    #     const_signal = np.expand_dims(const_signal, axis=1)\n",
        "    #     const_signal_tensor = torch.from_numpy(np.array([const_signal]))\n",
        "\n",
        "    #     hidden = torch.zeros(1, 200)\n",
        "    #     hidden = hidden.to(device)\n",
        "    #     const_signal_tensor = const_signal_tensor.float().to(device)\n",
        "    #     with torch.no_grad():\n",
        "    #         hidden_list, _, _ = model(const_signal_tensor, hidden)\n",
        "\n",
        "    #     fixed_point, result_ok = analyzer.find_fixed_point(torch.unsqueeze(hidden_list[:, 20, :], dim=0).to(device),\n",
        "    #                                                        const_signal_tensor)\n",
        "    #     if not result_ok:\n",
        "    #         continue\n",
        "\n",
        "    #     hidden_list_list[i * time_length:(i + 1) * time_length, ...] = hidden_list.cpu().numpy()[:, ...]\n",
        "    #     fixed_point_list[i] = fixed_point.detach().cpu().numpy()\n",
        "    #     i += 1\n",
        "\n",
        "\n",
        "\n",
        "\n",
        "\n",
        "\n",
        "\n",
        "#     pca = PCA(n_components=3)\n",
        "#     pca.fit(hidden_list_list)\n",
        "\n",
        "#     fig = plt.figure()\n",
        "#     ax = Axes3D(fig, rect=[0, 0, .95, 1], elev=45, azim=134)\n",
        "\n",
        "#     ax.set_xlabel('PC1')\n",
        "#     ax.set_ylabel('PC2')\n",
        "#     ax.set_zlabel('PC3')\n",
        "\n",
        "#     print(hidden_list_list.shape)\n",
        "#     print(fixed_point_list.shape)\n",
        "#     pc_trajectory = pca.transform(hidden_list_list)\n",
        "#     pc_fixed_point = pca.transform(fixed_point_list)\n",
        "\n",
        "#     for i in range(15):\n",
        "#         ax.plot(pc_trajectory.T[0, i * time_length:(i + 1) * time_length],\n",
        "#                 pc_trajectory.T[1, i * time_length:(i + 1) * time_length],\n",
        "#                 pc_trajectory.T[2, i * time_length:(i + 1) * time_length], color='royalblue')\n",
        "#     ax.scatter(pc_fixed_point.T[0], pc_fixed_point.T[1], pc_fixed_point.T[2], color='red', marker='x')\n",
        "#     plt.title('trajectory')\n",
        "#     plt.savefig(f'figures/trajectory_{activation}.png', dpi=100)\n",
        "\n",
        "\n",
        "# if __name__ == '__main__':\n",
        "#     parser = argparse.ArgumentParser(description='PyTorch RNN training')\n",
        "#     parser.add_argument('--activation', type=str, default='tanh')\n",
        "#     args = parser.parse_args()\n",
        "#     # print(args)\n",
        "#     main(args.activation)"
      ]
    },
    {
      "cell_type": "code",
      "execution_count": null,
      "metadata": {
        "colab": {
          "base_uri": "https://localhost:8080/"
        },
        "id": "iFSCuQA2xLJc",
        "outputId": "efc93108-58db-4046-f273-ecfb4c10c61b"
      },
      "outputs": [
        {
          "data": {
            "text/plain": [
              "[Parameter containing:\n",
              " tensor([[ 0.1895,  0.5495,  0.2659,  ..., -0.4860,  0.5779,  0.4980],\n",
              "         [-0.4533,  0.4590,  0.5454,  ..., -0.3497,  0.5164,  0.3412],\n",
              "         [ 0.6986, -0.7471,  0.1420,  ...,  1.0444, -0.7326,  0.5419],\n",
              "         ...,\n",
              "         [ 0.9434, -0.0881, -0.8199,  ...,  0.7788, -0.7410,  0.8887],\n",
              "         [-0.7179, -0.6997,  1.0262,  ...,  0.3180, -0.2262, -0.0932],\n",
              "         [ 0.3452,  0.4718,  0.0323,  ..., -0.3254,  0.4039,  0.5861]],\n",
              "        requires_grad=True)]"
            ]
          },
          "execution_count": 27,
          "metadata": {},
          "output_type": "execute_result"
        }
      ],
      "source": [
        "list(model.parameters())"
      ]
    },
    {
      "cell_type": "code",
      "execution_count": null,
      "metadata": {
        "id": "BCsvhemsyVWQ"
      },
      "outputs": [],
      "source": []
    },
    {
      "cell_type": "code",
      "execution_count": null,
      "metadata": {},
      "outputs": [],
      "source": []
    },
    {
      "cell_type": "code",
      "execution_count": null,
      "metadata": {},
      "outputs": [],
      "source": []
    }
  ],
  "metadata": {
    "accelerator": "GPU",
    "colab": {
      "provenance": []
    },
    "gpuClass": "standard",
    "kernelspec": {
      "display_name": "Python 3",
      "name": "python3"
    },
    "language_info": {
      "codemirror_mode": {
        "name": "ipython",
        "version": 3
      },
      "file_extension": ".py",
      "mimetype": "text/x-python",
      "name": "python",
      "nbconvert_exporter": "python",
      "pygments_lexer": "ipython3",
      "version": "3.8.7"
    }
  },
  "nbformat": 4,
  "nbformat_minor": 0
}
