{
 "cells": [
  {
   "cell_type": "code",
   "execution_count": 2,
   "metadata": {},
   "outputs": [
    {
     "name": "stderr",
     "output_type": "stream",
     "text": [
      "c:\\Users\\Andrew\\AppData\\Local\\Programs\\Python\\Python38\\lib\\site-packages\\tqdm\\auto.py:22: TqdmWarning: IProgress not found. Please update jupyter and ipywidgets. See https://ipywidgets.readthedocs.io/en/stable/user_install.html\n",
      "  from .autonotebook import tqdm as notebook_tqdm\n"
     ]
    }
   ],
   "source": [
    "import torch\n",
    "import torch.nn as nn\n",
    "import torch.nn.functional as F"
   ]
  },
  {
   "cell_type": "code",
   "execution_count": 11,
   "metadata": {},
   "outputs": [],
   "source": [
    "class RNN(nn.Module):\n",
    "    def __init__(self, dim_input, dim_hidden_state):\n",
    "        super().__init__()\n",
    "        self.dim_input = dim_input\n",
    "        self.dim_hidden_state = dim_hidden_state\n",
    "        self.W_input_and_hidden_to_input = nn.Linear(in_features=dim_input + dim_hidden_state, out_features=dim_input)\n",
    "        self.W_input_and_hidden_to_hidden = nn.Linear(in_features=dim_input + dim_hidden_state, out_features=dim_hidden_state)\n",
    "        \n",
    "    def init_hidden(self):\n",
    "        return torch.normal(mean=torch.zeros(self.dim_hidden_state, 1), std=torch.ones(self.dim_hidden_state, 1))\n",
    "\n",
    "    def forward(self, activity, hidden_state):\n",
    "        new_hidden = self.W_input_and_hidden_to_hidden(torch.cat((activity, hidden_state), dim=1))\n",
    "        output = self.W_input_and_hidden_to_input(torch.cat((activity, hidden_state), dim=1))\n",
    "\n",
    "        return output, new_hidden\n"
   ]
  },
  {
   "cell_type": "code",
   "execution_count": 14,
   "metadata": {},
   "outputs": [],
   "source": [
    "model = RNN(300, 100)"
   ]
  }
 ],
 "metadata": {
  "kernelspec": {
   "display_name": "Python 3",
   "language": "python",
   "name": "python3"
  },
  "language_info": {
   "codemirror_mode": {
    "name": "ipython",
    "version": 3
   },
   "file_extension": ".py",
   "mimetype": "text/x-python",
   "name": "python",
   "nbconvert_exporter": "python",
   "pygments_lexer": "ipython3",
   "version": "3.8.7"
  },
  "orig_nbformat": 4
 },
 "nbformat": 4,
 "nbformat_minor": 2
}
