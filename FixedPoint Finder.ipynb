{
  "cells": [
    {
      "cell_type": "code",
      "execution_count": 28,
      "metadata": {
        "id": "_rCUN8Zk94cA"
      },
      "outputs": [],
      "source": [
        "import numpy as np\n",
        "import numpy.random as npr\n",
        "import pylab\n",
        "import curbd\n",
        "import math\n",
        "import matplotlib.pyplot as plt\n",
        "import seaborn as sns\n",
        "\n",
        "\n",
        "import torch\n",
        "import torch.nn as nn\n",
        "from torch.nn import init\n",
        "from torch.nn import functional as F\n",
        "import torch.optim as optim\n",
        "import pickle \n",
        "device = torch.device('cuda' if torch.cuda.is_available() else 'cpu')\n"
      ]
    },
    {
      "cell_type": "code",
      "execution_count": 29,
      "metadata": {
        "id": "77y1YH4g-PV2"
      },
      "outputs": [
        {
          "ename": "KeyboardInterrupt",
          "evalue": "",
          "output_type": "error",
          "traceback": [
            "\u001b[1;31m---------------------------------------------------------------------------\u001b[0m",
            "\u001b[1;31mKeyboardInterrupt\u001b[0m                         Traceback (most recent call last)",
            "Cell \u001b[1;32mIn[29], line 1\u001b[0m\n\u001b[1;32m----> 1\u001b[0m sim \u001b[39m=\u001b[39m torch\u001b[39m.\u001b[39;49mload(\u001b[39m\"\u001b[39;49m\u001b[39mREAL_SIM.pt\u001b[39;49m\u001b[39m\"\u001b[39;49m)\n\u001b[0;32m      2\u001b[0m dtData\u001b[39m=\u001b[39msim[\u001b[39m'\u001b[39m\u001b[39mparams\u001b[39m\u001b[39m'\u001b[39m][\u001b[39m'\u001b[39m\u001b[39mdtData\u001b[39m\u001b[39m'\u001b[39m] \u001b[39m# time step of training data\u001b[39;00m\n\u001b[0;32m      3\u001b[0m \u001b[39m# dtData=None\u001b[39;00m\n",
            "File \u001b[1;32mc:\\Users\\Andrew\\AppData\\Local\\Programs\\Python\\Python38\\lib\\site-packages\\torch\\serialization.py:789\u001b[0m, in \u001b[0;36mload\u001b[1;34m(f, map_location, pickle_module, weights_only, **pickle_load_args)\u001b[0m\n\u001b[0;32m    787\u001b[0m             \u001b[39mexcept\u001b[39;00m \u001b[39mRuntimeError\u001b[39;00m \u001b[39mas\u001b[39;00m e:\n\u001b[0;32m    788\u001b[0m                 \u001b[39mraise\u001b[39;00m pickle\u001b[39m.\u001b[39mUnpicklingError(UNSAFE_MESSAGE \u001b[39m+\u001b[39m \u001b[39mstr\u001b[39m(e)) \u001b[39mfrom\u001b[39;00m \u001b[39mNone\u001b[39m\n\u001b[1;32m--> 789\u001b[0m         \u001b[39mreturn\u001b[39;00m _load(opened_zipfile, map_location, pickle_module, \u001b[39m*\u001b[39;49m\u001b[39m*\u001b[39;49mpickle_load_args)\n\u001b[0;32m    790\u001b[0m \u001b[39mif\u001b[39;00m weights_only:\n\u001b[0;32m    791\u001b[0m     \u001b[39mtry\u001b[39;00m:\n",
            "File \u001b[1;32mc:\\Users\\Andrew\\AppData\\Local\\Programs\\Python\\Python38\\lib\\site-packages\\torch\\serialization.py:1133\u001b[0m, in \u001b[0;36m_load\u001b[1;34m(zip_file, map_location, pickle_module, pickle_file, **pickle_load_args)\u001b[0m\n\u001b[0;32m   1130\u001b[0m unpickler\u001b[39m.\u001b[39mpersistent_load \u001b[39m=\u001b[39m persistent_load\n\u001b[0;32m   1131\u001b[0m result \u001b[39m=\u001b[39m unpickler\u001b[39m.\u001b[39mload()\n\u001b[1;32m-> 1133\u001b[0m torch\u001b[39m.\u001b[39m_utils\u001b[39m.\u001b[39m_validate_loaded_sparse_tensors()\n\u001b[0;32m   1135\u001b[0m \u001b[39mreturn\u001b[39;00m result\n",
            "\u001b[1;31mKeyboardInterrupt\u001b[0m: "
          ]
        }
      ],
      "source": [
        "sim = torch.load(\"REAL_SIM.pt\")\n",
        "dtData=sim['params']['dtData'] # time step of training data\n",
        "# dtData=None\n",
        "dtFactor=5 # number of interpolation steps for RNN \n",
        "# tauRNN=2*sim['params']['tau']/2 # decay constant of RNN \n",
        "tauRNN=50 # decay constant of RNN \n",
        "dtRNN = 0.002\n",
        "g=1.5 # instability constant \n",
        "tauWN=0.1 #decay constant on filtered white noise inputs\n",
        "ampInWN=0.01 #input amplitude of filtered white noise \n",
        "resetPoints=None\n",
        "plotStatus=True\n",
        "regions=None\n"
      ]
    },
    {
      "cell_type": "markdown",
      "metadata": {
        "id": "Y71GXazFhGQJ"
      },
      "source": [
        "# Model Definition"
      ]
    },
    {
      "cell_type": "code",
      "execution_count": null,
      "metadata": {
        "id": "nqsHjhoVTgOx"
      },
      "outputs": [],
      "source": [
        "import sys \n",
        "\n",
        "class CTRNN(nn.Module):\n",
        "    \"\"\"Continuous-time RNN.\"\"\"\n",
        "    def __init__(self,\n",
        "                 g,\n",
        "                 tauRNN,\n",
        "                 dtRNN,\n",
        "                 input_units,\n",
        "                 output_units,\n",
        "                 dt=None,\n",
        "                 **kwargs):\n",
        "      \n",
        "        super(CTRNN,self).__init__()\n",
        "\n",
        "        self.tauRNN = tauRNN\n",
        "        self.dtRNN=dtRNN\n",
        "        self.g=g\n",
        "        self.input_units=input_units\n",
        "        self.output_units=output_units\n",
        "        self.J = nn.Parameter(self.g * torch.Tensor(npr.randn(input_units, output_units) / math.sqrt(output_units)))\n",
        "\n",
        "    def forward(self, hidden, noise=None):\n",
        "        if(noise is not None):\n",
        "           noise = torch.zeros_like(noise)\n",
        "        \n",
        "        \"\"\"Propogate input through the network.\"\"\"\n",
        "        \n",
        "        # When calculating fixed points: We want to find _hidden_ vectors such that -hidden + JR equals the 0 vector.\n",
        "        activation = torch.tanh(torch.Tensor(hidden))\n",
        "        JR = torch.matmul(self.J, activation).reshape((self.input_units,1))\n",
        "        \n",
        "\n",
        "        new_hidden = hidden + self.dtRNN*(-hidden + JR)/self.tauRNN\n",
        "        return activation, new_hidden\n",
        "\n"
      ]
    },
    {
      "cell_type": "code",
      "execution_count": null,
      "metadata": {},
      "outputs": [],
      "source": [
        "class pseudomodel(nn.Module):\n",
        "    def __init__(self, hidden_size, input_units):\n",
        "        super().__init__()\n",
        "        self.hidden_size = hidden_size\n",
        "        self.input_units = input_units\n",
        "        self.candidate_hidden = nn.Parameter(10*(torch.rand(hidden_size)-0.5))\n",
        "        \n",
        "\n",
        "    def forward(self, J_matrix):\n",
        "        activation = torch.tanh(torch.Tensor(self.candidate_hidden))\n",
        "        JR = torch.matmul(J_matrix, activation).reshape((self.input_units, 1))\n",
        "        \n",
        "        difference = -self.candidate_hidden + JR\n",
        "        return difference\n",
        "\n",
        "    "
      ]
    },
    {
      "cell_type": "code",
      "execution_count": null,
      "metadata": {},
      "outputs": [
        {
          "data": {
            "text/plain": [
              "<All keys matched successfully>"
            ]
          },
          "execution_count": 16,
          "metadata": {},
          "output_type": "execute_result"
        }
      ],
      "source": [
        "number_units = 300\n",
        "rnn_model = CTRNN(g=g,\n",
        "                  tauRNN=tauRNN,\n",
        "                  dtRNN=dtRNN,\n",
        "                  input_units=number_units,\n",
        "                  output_units=number_units)\n",
        "\n",
        "rnn_model.to(device)\n",
        "\n",
        "weights_initial = rnn_model.J.detach().cpu().numpy().copy()\n",
        "\n",
        "\n",
        "rnn_model.load_state_dict(torch.load(\"REAL_WEIGHTS_NONOISE.pt\"))"
      ]
    },
    {
      "cell_type": "code",
      "execution_count": 31,
      "metadata": {},
      "outputs": [
        {
          "name": "stdout",
          "output_type": "stream",
          "text": [
            "Starting to look for fixed point 0.\n",
            "Finished approximating. The error is 8.84524098410111e-08. The final loss is 0.17280635237693787\n",
            "Starting to look for fixed point 1.\n",
            "Finished approximating. The error is 3.867171116667123e-08. The final loss is 0.08109264075756073\n",
            "Starting to look for fixed point 2.\n",
            "Finished approximating. The error is 4.256128249835456e-08. The final loss is 0.08944143354892731\n",
            "Starting to look for fixed point 3.\n",
            "Finished approximating. The error is 5.1106766818520555e-08. The final loss is 0.10792297124862671\n",
            "Starting to look for fixed point 4.\n",
            "Finished approximating. The error is 2.8708901922414043e-08. The final loss is 0.059825796633958817\n",
            "Starting to look for fixed point 5.\n",
            "Finished approximating. The error is 4.555435495490201e-08. The final loss is 0.0964672863483429\n",
            "Starting to look for fixed point 6.\n",
            "Finished approximating. The error is 5.1635012709994044e-08. The final loss is 0.1076478585600853\n",
            "Starting to look for fixed point 7.\n",
            "Finished approximating. The error is 4.597104918957484e-08. The final loss is 0.09586497396230698\n",
            "Starting to look for fixed point 8.\n",
            "Finished approximating. The error is 5.478474918163556e-08. The final loss is 0.11410418152809143\n",
            "Starting to look for fixed point 9.\n",
            "Finished approximating. The error is 5.2920146487167585e-08. The final loss is 0.11030616611242294\n"
          ]
        }
      ],
      "source": [
        "\n",
        "def find_fixed_points(model, num_to_find=10, epochs=8000):\n",
        "    fixed_points = []\n",
        "\n",
        "    training_epochs = epochs\n",
        "\n",
        "    for index in range(num_to_find):\n",
        "        loss_function = nn.MSELoss()\n",
        "        sm = pseudomodel(hidden_size=(300,1), input_units=300)\n",
        "        optimizer = torch.optim.Adam(sm.parameters(), lr=1e-2)\n",
        "        scheduler = torch.optim.lr_scheduler.MultiStepLR(optimizer=optimizer, milestones=[training_epochs*0.9,\n",
        "                                                                                        training_epochs*0.95,\n",
        "                                                                                        training_epochs*0.96], gamma=0.8)\n",
        "        \n",
        "        print(f\"Starting to look for fixed point {index}.\")\n",
        "        for i in range(training_epochs):\n",
        "            diffs = sm(rnn_model.J)\n",
        "            loss = loss_function(diffs, torch.zeros_like(diffs))\n",
        "            optimizer.zero_grad()\n",
        "            loss.backward()\n",
        "            optimizer.step()\n",
        "        # scheduler.step()\n",
        "        #   print(i, loss)\n",
        "        print(f\"Finished approximating. The error is {torch.sum((rnn_model(sm.candidate_hidden)[1] - sm.candidate_hidden) ** 2)}. The final loss is {loss}\")\n",
        "        fixed_points.append(sm.candidate_hidden.detach().clone())\n",
        "\n",
        "    return fixed_points\n",
        "\n",
        "fixed_points = find_fixed_points(rnn_model)\n",
        "torch.save(fixed_points, \"fixed_points.pt\")\n",
        "            "
      ]
    },
    {
      "cell_type": "code",
      "execution_count": null,
      "metadata": {},
      "outputs": [],
      "source": [
        "def remove_duplicate_fixed_points(fixed_points_array):\n",
        "    "
      ]
    },
    {
      "cell_type": "code",
      "execution_count": 32,
      "metadata": {},
      "outputs": [],
      "source": [
        "torch.save(fixed_points, \"REAL_FIXED_POINTS.pt\")"
      ]
    }
  ],
  "metadata": {
    "accelerator": "GPU",
    "colab": {
      "provenance": []
    },
    "gpuClass": "standard",
    "kernelspec": {
      "display_name": "Python 3",
      "name": "python3"
    },
    "language_info": {
      "codemirror_mode": {
        "name": "ipython",
        "version": 3
      },
      "file_extension": ".py",
      "mimetype": "text/x-python",
      "name": "python",
      "nbconvert_exporter": "python",
      "pygments_lexer": "ipython3",
      "version": "3.8.7"
    }
  },
  "nbformat": 4,
  "nbformat_minor": 0
}
