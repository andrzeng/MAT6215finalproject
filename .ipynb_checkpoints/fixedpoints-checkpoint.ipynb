{
 "cells": [
  {
   "cell_type": "code",
   "execution_count": 1,
   "metadata": {},
   "outputs": [
    {
     "name": "stderr",
     "output_type": "stream",
     "text": [
      "c:\\Users\\Andrew\\AppData\\Local\\Programs\\Python\\Python38\\lib\\site-packages\\tqdm\\auto.py:22: TqdmWarning: IProgress not found. Please update jupyter and ipywidgets. See https://ipywidgets.readthedocs.io/en/stable/user_install.html\n",
      "  from .autonotebook import tqdm as notebook_tqdm\n"
     ]
    }
   ],
   "source": [
    "import torch\n",
    "import torch.nn as nn\n",
    "from torch.autograd import Variable\n",
    "import math\n",
    "import numpy as np\n",
    "from numpy import random as npr\n",
    "\n",
    "dtRNN = 0.002\n",
    "tauRNN = 0.1\n",
    "number_units = 300\n",
    "g = 1.5\n",
    "\n",
    "class Model(nn.Module):\n",
    "  def __init__(self, number_units):\n",
    "    super().__init__()\n",
    "    self.number_units = number_units\n",
    "\n",
    "    # g<1 -> damped and g>1 -> chaotic\n",
    "    self.J = nn.Parameter(g * torch.Tensor(npr.randn(number_units, number_units) / \n",
    "                                           math.sqrt(number_units)), requires_grad=True) \n",
    "    self.J = nn.Parameter(torch.normal(torch.zeros_like(self.J), torch.ones_like(self.J)*2), requires_grad=True)\n",
    "\n",
    "  def forward(self,\n",
    "              activity_data,\n",
    "              white_noise\n",
    "              ):\n",
    "    \n",
    "    output = torch.tanh(activity_data)\n",
    "    JR_temp = (torch.matmul(self.J, output).reshape((self.number_units, 1)) + white_noise) \n",
    "    new_hidden_state = activity_data + dtRNN*(-activity_data + JR_temp)/tauRNN \n",
    " \n",
    "    return output, new_hidden_state\n",
    "    \n",
    "\n",
    "rnn_model = Model(number_units)\n",
    "    "
   ]
  },
  {
   "cell_type": "code",
   "execution_count": 2,
   "metadata": {},
   "outputs": [
    {
     "data": {
      "text/plain": [
       "<All keys matched successfully>"
      ]
     },
     "execution_count": 2,
     "metadata": {},
     "output_type": "execute_result"
    }
   ],
   "source": [
    "rnn_model.load_state_dict(torch.load(\"ok_weights.pt\"))"
   ]
  },
  {
   "cell_type": "code",
   "execution_count": 3,
   "metadata": {},
   "outputs": [],
   "source": [
    "weight_matrix = rnn_model.J.detach().clone().numpy()"
   ]
  },
  {
   "cell_type": "code",
   "execution_count": 4,
   "metadata": {},
   "outputs": [
    {
     "data": {
      "text/plain": [
       "array([[-9.8748541e+00, -5.9738614e-02,  8.8842249e-01, ...,\n",
       "         3.1120980e-01, -2.3924680e-03,  5.6192821e-01],\n",
       "       [-2.8872690e-01, -2.9271207e+00,  4.8316413e-01, ...,\n",
       "         4.9839857e-01,  1.0274951e+00,  2.2851178e-01],\n",
       "       [-3.6024085e-01, -5.8363152e-01, -1.5323781e+01, ...,\n",
       "         1.2617437e+00, -2.7201694e-01, -9.9397302e-01],\n",
       "       ...,\n",
       "       [-7.7181399e-02, -5.1913279e-01, -1.4171814e+00, ...,\n",
       "        -1.0784763e+01, -6.4301401e-01, -4.2637390e-01],\n",
       "       [ 3.3906111e-01, -2.5509769e-01,  1.3932756e+00, ...,\n",
       "        -5.7904096e-04, -8.0503759e+00,  1.8306507e-01],\n",
       "       [-5.2740842e-01, -1.4329021e-01, -1.4286491e+00, ...,\n",
       "         1.2569907e+00,  1.5301469e-01, -9.7243862e+00]], dtype=float32)"
      ]
     },
     "execution_count": 4,
     "metadata": {},
     "output_type": "execute_result"
    }
   ],
   "source": [
    "weight_matrix"
   ]
  },
  {
   "cell_type": "code",
   "execution_count": 38,
   "metadata": {},
   "outputs": [],
   "source": [
    "eigvals, eigvecs = np.linalg.eig(weight_matrix)"
   ]
  },
  {
   "cell_type": "code",
   "execution_count": 42,
   "metadata": {},
   "outputs": [
    {
     "data": {
      "text/plain": [
       "(300, 300)"
      ]
     },
     "execution_count": 42,
     "metadata": {},
     "output_type": "execute_result"
    }
   ],
   "source": [
    "eigvecs.shape"
   ]
  },
  {
   "cell_type": "code",
   "execution_count": 7,
   "metadata": {},
   "outputs": [
    {
     "ename": "KeyError",
     "evalue": "'PYTHONPATH'",
     "output_type": "error",
     "traceback": [
      "\u001b[1;31m---------------------------------------------------------------------------\u001b[0m",
      "\u001b[1;31mKeyError\u001b[0m                                  Traceback (most recent call last)",
      "Cell \u001b[1;32mIn[7], line 2\u001b[0m\n\u001b[0;32m      1\u001b[0m \u001b[39mimport\u001b[39;00m \u001b[39mos\u001b[39;00m\n\u001b[1;32m----> 2\u001b[0m os\u001b[39m.\u001b[39;49menviron[\u001b[39m'\u001b[39;49m\u001b[39mPYTHONPATH\u001b[39;49m\u001b[39m'\u001b[39;49m]\n",
      "File \u001b[1;32mc:\\Users\\Andrew\\AppData\\Local\\Programs\\Python\\Python38\\lib\\os.py:675\u001b[0m, in \u001b[0;36m_Environ.__getitem__\u001b[1;34m(self, key)\u001b[0m\n\u001b[0;32m    672\u001b[0m     value \u001b[39m=\u001b[39m \u001b[39mself\u001b[39m\u001b[39m.\u001b[39m_data[\u001b[39mself\u001b[39m\u001b[39m.\u001b[39mencodekey(key)]\n\u001b[0;32m    673\u001b[0m \u001b[39mexcept\u001b[39;00m \u001b[39mKeyError\u001b[39;00m:\n\u001b[0;32m    674\u001b[0m     \u001b[39m# raise KeyError with the original key value\u001b[39;00m\n\u001b[1;32m--> 675\u001b[0m     \u001b[39mraise\u001b[39;00m \u001b[39mKeyError\u001b[39;00m(key) \u001b[39mfrom\u001b[39;00m \u001b[39mNone\u001b[39m\n\u001b[0;32m    676\u001b[0m \u001b[39mreturn\u001b[39;00m \u001b[39mself\u001b[39m\u001b[39m.\u001b[39mdecodevalue(value)\n",
      "\u001b[1;31mKeyError\u001b[0m: 'PYTHONPATH'"
     ]
    }
   ],
   "source": [
    "import os\n",
    "os.environ['PYTHONPATH']"
   ]
  }
 ],
 "metadata": {
  "kernelspec": {
   "display_name": "Python 3",
   "language": "python",
   "name": "python3"
  },
  "language_info": {
   "codemirror_mode": {
    "name": "ipython",
    "version": 3
   },
   "file_extension": ".py",
   "mimetype": "text/x-python",
   "name": "python",
   "nbconvert_exporter": "python",
   "pygments_lexer": "ipython3",
   "version": "3.8.7"
  },
  "orig_nbformat": 4
 },
 "nbformat": 4,
 "nbformat_minor": 2
}
